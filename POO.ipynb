{
 "cells": [
  {
   "cell_type": "markdown",
   "id": "b9e6e1ce",
   "metadata": {},
   "source": [
    "# POO"
   ]
  },
  {
   "cell_type": "code",
   "execution_count": 1,
   "id": "77037713",
   "metadata": {},
   "outputs": [],
   "source": [
    "class Persona:\n",
    "    \"\"\"Clase persona, texto de ayuda\"\"\"\n",
    "    nombre=\"Martha\"\n",
    "    apellido=\"Rodriguez\"\n",
    "    genero=\"F\"\n",
    "    cedula = \"NA\""
   ]
  },
  {
   "cell_type": "code",
   "execution_count": 2,
   "id": "a44b9053",
   "metadata": {},
   "outputs": [],
   "source": [
    "Emp1 = Persona"
   ]
  },
  {
   "cell_type": "code",
   "execution_count": 3,
   "id": "9c7a1677",
   "metadata": {},
   "outputs": [
    {
     "data": {
      "text/plain": [
       "'Martha'"
      ]
     },
     "execution_count": 3,
     "metadata": {},
     "output_type": "execute_result"
    }
   ],
   "source": [
    "Emp1.nombre"
   ]
  },
  {
   "cell_type": "code",
   "execution_count": 4,
   "id": "5ebafcd7",
   "metadata": {},
   "outputs": [
    {
     "data": {
      "text/plain": [
       "['__class__',\n",
       " '__delattr__',\n",
       " '__dict__',\n",
       " '__dir__',\n",
       " '__doc__',\n",
       " '__eq__',\n",
       " '__format__',\n",
       " '__ge__',\n",
       " '__getattribute__',\n",
       " '__gt__',\n",
       " '__hash__',\n",
       " '__init__',\n",
       " '__init_subclass__',\n",
       " '__le__',\n",
       " '__lt__',\n",
       " '__module__',\n",
       " '__ne__',\n",
       " '__new__',\n",
       " '__reduce__',\n",
       " '__reduce_ex__',\n",
       " '__repr__',\n",
       " '__setattr__',\n",
       " '__sizeof__',\n",
       " '__str__',\n",
       " '__subclasshook__',\n",
       " '__weakref__',\n",
       " 'apellido',\n",
       " 'cedula',\n",
       " 'genero',\n",
       " 'nombre']"
      ]
     },
     "execution_count": 4,
     "metadata": {},
     "output_type": "execute_result"
    }
   ],
   "source": [
    "dir(Emp1)"
   ]
  },
  {
   "cell_type": "code",
   "execution_count": 6,
   "id": "cc23e0a8",
   "metadata": {},
   "outputs": [
    {
     "data": {
      "text/plain": [
       "type"
      ]
     },
     "execution_count": 6,
     "metadata": {},
     "output_type": "execute_result"
    }
   ],
   "source": [
    "Emp1.__class__"
   ]
  },
  {
   "cell_type": "code",
   "execution_count": 7,
   "id": "c544701c",
   "metadata": {},
   "outputs": [
    {
     "data": {
      "text/plain": [
       "'Persona'"
      ]
     },
     "execution_count": 7,
     "metadata": {},
     "output_type": "execute_result"
    }
   ],
   "source": [
    "Emp1.__name__"
   ]
  },
  {
   "cell_type": "code",
   "execution_count": 8,
   "id": "aea2efe8",
   "metadata": {},
   "outputs": [
    {
     "data": {
      "text/plain": [
       "'Clase persona, texto de ayuda'"
      ]
     },
     "execution_count": 8,
     "metadata": {},
     "output_type": "execute_result"
    }
   ],
   "source": [
    "Emp1.__doc__"
   ]
  },
  {
   "cell_type": "code",
   "execution_count": 9,
   "id": "ddbb7ea3",
   "metadata": {},
   "outputs": [],
   "source": [
    "class Persona:\n",
    "    \"\"\"Clase persona, texto de ayuda\"\"\"\n",
    "    nombre=\"Martha\"\n",
    "    apellido=\"Rodriguez\"\n",
    "    genero=\"F\"\n",
    "    cedula = \"NA\"\n",
    "    def hablar(self, mensaje):\n",
    "        \"\"\"impresion de mensaje\"\"\"\n",
    "        return mensaje"
   ]
  },
  {
   "cell_type": "code",
   "execution_count": 10,
   "id": "065bd98e",
   "metadata": {},
   "outputs": [],
   "source": [
    "Emp2 = Persona"
   ]
  },
  {
   "cell_type": "code",
   "execution_count": 11,
   "id": "10e439cf",
   "metadata": {},
   "outputs": [
    {
     "data": {
      "text/plain": [
       "'Mensaje'"
      ]
     },
     "execution_count": 11,
     "metadata": {},
     "output_type": "execute_result"
    }
   ],
   "source": [
    "Persona().hablar(\"Mensaje\")"
   ]
  },
  {
   "cell_type": "code",
   "execution_count": 18,
   "id": "fd3ccefa",
   "metadata": {},
   "outputs": [
    {
     "data": {
      "text/plain": [
       "'Mensaje'"
      ]
     },
     "execution_count": 18,
     "metadata": {},
     "output_type": "execute_result"
    }
   ],
   "source": [
    "Emp2().hablar(\"Mensaje\")"
   ]
  },
  {
   "cell_type": "code",
   "execution_count": 14,
   "id": "f97da599",
   "metadata": {},
   "outputs": [
    {
     "ename": "AttributeError",
     "evalue": "'Persona' object has no attribute 'hablar'",
     "output_type": "error",
     "traceback": [
      "\u001b[1;31m---------------------------------------------------------------------------\u001b[0m",
      "\u001b[1;31mAttributeError\u001b[0m                            Traceback (most recent call last)",
      "\u001b[1;32m<ipython-input-14-6ec32f7e4b70>\u001b[0m in \u001b[0;36m<module>\u001b[1;34m\u001b[0m\n\u001b[1;32m----> 1\u001b[1;33m \u001b[0mEmp1\u001b[0m\u001b[1;33m(\u001b[0m\u001b[1;33m)\u001b[0m\u001b[1;33m.\u001b[0m\u001b[0mhablar\u001b[0m\u001b[1;33m(\u001b[0m\u001b[1;34m\"hey!\"\u001b[0m\u001b[1;33m)\u001b[0m\u001b[1;33m\u001b[0m\u001b[1;33m\u001b[0m\u001b[0m\n\u001b[0m",
      "\u001b[1;31mAttributeError\u001b[0m: 'Persona' object has no attribute 'hablar'"
     ]
    }
   ],
   "source": [
    "Emp1().hablar(\"hey!\")"
   ]
  },
  {
   "cell_type": "code",
   "execution_count": 15,
   "id": "1eb357e5",
   "metadata": {},
   "outputs": [
    {
     "data": {
      "text/plain": [
       "method"
      ]
     },
     "execution_count": 15,
     "metadata": {},
     "output_type": "execute_result"
    }
   ],
   "source": [
    "type(Persona().hablar)"
   ]
  },
  {
   "cell_type": "code",
   "execution_count": 16,
   "id": "7242223b",
   "metadata": {},
   "outputs": [
    {
     "data": {
      "text/plain": [
       "'impresion de mensaje'"
      ]
     },
     "execution_count": 16,
     "metadata": {},
     "output_type": "execute_result"
    }
   ],
   "source": [
    "Persona().hablar.__doc__"
   ]
  },
  {
   "cell_type": "code",
   "execution_count": 19,
   "id": "1de64c82",
   "metadata": {},
   "outputs": [
    {
     "data": {
      "text/plain": [
       "<function __main__.Persona.hablar(self, mensaje)>"
      ]
     },
     "execution_count": 19,
     "metadata": {},
     "output_type": "execute_result"
    }
   ],
   "source": [
    "Emp2.hablar"
   ]
  },
  {
   "cell_type": "code",
   "execution_count": 20,
   "id": "b92316e7",
   "metadata": {},
   "outputs": [],
   "source": [
    "class Persona:\n",
    "    \"\"\"Clase persona, texto de ayuda\"\"\"\n",
    "    def __init__(self, nombre, apellido, genero, cedula):#definir funcion init\n",
    "        \"\"\"inicializacion de la clase\"\"\"\n",
    "        self.nombre=nombre\n",
    "        self.apellido=apellido\n",
    "        self.genero=genero\n",
    "        self.cedula = cedula\n",
    "        \n",
    "    def hablar(self, mensaje):\n",
    "        \"\"\"impresion de mensaje\"\"\"\n",
    "        return mensaje"
   ]
  },
  {
   "cell_type": "code",
   "execution_count": 22,
   "id": "993e5cf9",
   "metadata": {},
   "outputs": [],
   "source": [
    "Emp3 = Persona(\"Alan\", \"Cortez\", \"M\", \"NA\")"
   ]
  },
  {
   "cell_type": "code",
   "execution_count": 25,
   "id": "33d42e0f",
   "metadata": {},
   "outputs": [
    {
     "data": {
      "text/plain": [
       "'Alan'"
      ]
     },
     "execution_count": 25,
     "metadata": {},
     "output_type": "execute_result"
    }
   ],
   "source": [
    "Emp3.nombre"
   ]
  },
  {
   "cell_type": "code",
   "execution_count": 51,
   "id": "258e6350",
   "metadata": {},
   "outputs": [],
   "source": [
    "class Supervisor(Persona):\n",
    "    \"\"\"Clase que representa un supervisor\"\"\"\n",
    "    def __init__(self, nombre, apellido, genero, cedula, puesto):\n",
    "        \"\"\"Constructor para un supervisor\"\"\"\n",
    "        \n",
    "        Persona.__init__(self, nombre, apellido, genero, cedula)\n",
    "        self.puesto = puesto #nuevo atributo\n",
    "        self.tareas=[\"10\", \"11\", \"12\", \"13\"]\n",
    "        \n",
    "    def __str__(self):\n",
    "        \"\"\"Devuelve la cadena descriptiva\"\"\"\n",
    "        \n",
    "        return \"%s: %s %s, puesto: '%s', sus tareas son %s\" %(\n",
    "        self.__doc__, self.nombre, self.apellido, self.puesto, self.consulta_tareas())\n",
    "    \n",
    "    def consulta_tareas(self):\n",
    "        \"\"\"mostrar las tareas de un supervisor\"\"\"\n",
    "        \n",
    "        return \", \".join(self.tareas)"
   ]
  },
  {
   "cell_type": "code",
   "execution_count": 30,
   "id": "28e29204",
   "metadata": {},
   "outputs": [],
   "source": [
    "Emp3 = Persona(\"Alan\", \"Cortez\", \"M\", \"NA\")"
   ]
  },
  {
   "cell_type": "code",
   "execution_count": 31,
   "id": "e1e67a53",
   "metadata": {},
   "outputs": [
    {
     "data": {
      "text/plain": [
       "'Alan'"
      ]
     },
     "execution_count": 31,
     "metadata": {},
     "output_type": "execute_result"
    }
   ],
   "source": [
    "Emp3.nombre"
   ]
  },
  {
   "cell_type": "code",
   "execution_count": 32,
   "id": "99db42cd",
   "metadata": {},
   "outputs": [
    {
     "data": {
      "text/plain": [
       "['__class__',\n",
       " '__delattr__',\n",
       " '__dict__',\n",
       " '__dir__',\n",
       " '__doc__',\n",
       " '__eq__',\n",
       " '__format__',\n",
       " '__ge__',\n",
       " '__getattribute__',\n",
       " '__gt__',\n",
       " '__hash__',\n",
       " '__init__',\n",
       " '__init_subclass__',\n",
       " '__le__',\n",
       " '__lt__',\n",
       " '__module__',\n",
       " '__ne__',\n",
       " '__new__',\n",
       " '__reduce__',\n",
       " '__reduce_ex__',\n",
       " '__repr__',\n",
       " '__setattr__',\n",
       " '__sizeof__',\n",
       " '__str__',\n",
       " '__subclasshook__',\n",
       " '__weakref__',\n",
       " 'apellido',\n",
       " 'cedula',\n",
       " 'genero',\n",
       " 'hablar',\n",
       " 'nombre']"
      ]
     },
     "execution_count": 32,
     "metadata": {},
     "output_type": "execute_result"
    }
   ],
   "source": [
    "dir(Emp3)"
   ]
  },
  {
   "cell_type": "code",
   "execution_count": 53,
   "id": "48ad5c9f",
   "metadata": {},
   "outputs": [],
   "source": [
    "S1 = Supervisor(\"Alan\", \"Cortez\", \"M\", \"NA\", \"Supervisor\")"
   ]
  },
  {
   "cell_type": "code",
   "execution_count": 44,
   "id": "dde702ad",
   "metadata": {},
   "outputs": [
    {
     "data": {
      "text/plain": [
       "['__class__',\n",
       " '__delattr__',\n",
       " '__dict__',\n",
       " '__dir__',\n",
       " '__doc__',\n",
       " '__eq__',\n",
       " '__format__',\n",
       " '__ge__',\n",
       " '__getattribute__',\n",
       " '__gt__',\n",
       " '__hash__',\n",
       " '__init__',\n",
       " '__init_subclass__',\n",
       " '__le__',\n",
       " '__lt__',\n",
       " '__module__',\n",
       " '__ne__',\n",
       " '__new__',\n",
       " '__reduce__',\n",
       " '__reduce_ex__',\n",
       " '__repr__',\n",
       " '__setattr__',\n",
       " '__sizeof__',\n",
       " '__str__',\n",
       " '__subclasshook__',\n",
       " '__weakref__',\n",
       " 'apellido',\n",
       " 'cedula',\n",
       " 'consulta_tareas',\n",
       " 'genero',\n",
       " 'hablar',\n",
       " 'nombre',\n",
       " 'puesto',\n",
       " 'tareas']"
      ]
     },
     "execution_count": 44,
     "metadata": {},
     "output_type": "execute_result"
    }
   ],
   "source": [
    "dir(S1)"
   ]
  },
  {
   "cell_type": "code",
   "execution_count": 54,
   "id": "8db7ad69",
   "metadata": {},
   "outputs": [
    {
     "data": {
      "text/plain": [
       "\"Clase que representa un supervisor: Alan Cortez, puesto: 'Supervisor', sus tareas son 10, 11, 12, 13\""
      ]
     },
     "execution_count": 54,
     "metadata": {},
     "output_type": "execute_result"
    }
   ],
   "source": [
    "S1.__str__()"
   ]
  },
  {
   "cell_type": "code",
   "execution_count": 46,
   "id": "42c870b7",
   "metadata": {},
   "outputs": [
    {
     "name": "stdout",
     "output_type": "stream",
     "text": [
      "10, 11, 12, 13\n"
     ]
    }
   ],
   "source": [
    "print(S1.consulta_tareas())"
   ]
  },
  {
   "cell_type": "code",
   "execution_count": 55,
   "id": "d8b1acbc",
   "metadata": {},
   "outputs": [
    {
     "data": {
      "text/plain": [
       "\"Clase que representa un supervisor: Alan Cortez, puesto: 'Supervisor', sus tareas son 10, 11, 12, 13\""
      ]
     },
     "execution_count": 55,
     "metadata": {},
     "output_type": "execute_result"
    }
   ],
   "source": [
    "str(S1)"
   ]
  },
  {
   "cell_type": "code",
   "execution_count": 49,
   "id": "6d315b20",
   "metadata": {},
   "outputs": [
    {
     "name": "stdout",
     "output_type": "stream",
     "text": [
      "Clase que representa un supervisor Alan Cortez Supervisor 10, 11, 12, 13\n"
     ]
    }
   ],
   "source": [
    "print(S1.__doc__, S1.nombre, S1.apellido, S1.puesto, S1.consulta_tareas())"
   ]
  },
  {
   "cell_type": "code",
   "execution_count": 63,
   "id": "1b13ac12",
   "metadata": {},
   "outputs": [],
   "source": [
    "class Calculadora():\n",
    "    \"\"\"\"\"\"\n",
    "    def __init__(self, a, b, operador):\n",
    "        \"\"\"\"\"\"\n",
    "        self.a = a\n",
    "        self.b = b\n",
    "        self.operador = operador\n",
    "    \n",
    "    def resultado(self):\n",
    "        \"\"\"\"\"\"\n",
    "        if self.operador == '-':\n",
    "            return self.a-self.b\n",
    "        elif self.operador == '+':\n",
    "            return self.a+self.b\n",
    "        elif self.operador == 'x':\n",
    "            return self.a*self.b\n",
    "        elif self.operador == '/':\n",
    "            return self.a/self.b\n",
    "        else:\n",
    "            return None"
   ]
  },
  {
   "cell_type": "code",
   "execution_count": 64,
   "id": "b083ba00",
   "metadata": {},
   "outputs": [
    {
     "name": "stdout",
     "output_type": "stream",
     "text": [
      "Ingrese el numero: 45\n",
      "Ingrese el operador (-,+,x,/): /\n",
      "Ingrese el numero: 23\n"
     ]
    },
    {
     "data": {
      "text/plain": [
       "1.9565217391304348"
      ]
     },
     "execution_count": 64,
     "metadata": {},
     "output_type": "execute_result"
    }
   ],
   "source": [
    "a=float(input(\"Ingrese el numero: \"))\n",
    "operador = input(\"Ingrese el operador (-,+,x,/): \")\n",
    "b=float(input(\"Ingrese el numero: \"))\n",
    "\n",
    "Calculadora(a,b,operador).resultado()"
   ]
  },
  {
   "cell_type": "code",
   "execution_count": null,
   "id": "bbd8916c",
   "metadata": {},
   "outputs": [],
   "source": []
  }
 ],
 "metadata": {
  "kernelspec": {
   "display_name": "Python 3",
   "language": "python",
   "name": "python3"
  },
  "language_info": {
   "codemirror_mode": {
    "name": "ipython",
    "version": 3
   },
   "file_extension": ".py",
   "mimetype": "text/x-python",
   "name": "python",
   "nbconvert_exporter": "python",
   "pygments_lexer": "ipython3",
   "version": "3.6.13"
  }
 },
 "nbformat": 4,
 "nbformat_minor": 5
}
