{
 "cells": [
  {
   "cell_type": "code",
   "execution_count": 1,
   "id": "b73e50fe",
   "metadata": {},
   "outputs": [],
   "source": [
    "import numpy as np"
   ]
  },
  {
   "cell_type": "code",
   "execution_count": 2,
   "id": "6e322c8a",
   "metadata": {},
   "outputs": [],
   "source": [
    "i=4"
   ]
  },
  {
   "cell_type": "code",
   "execution_count": 3,
   "id": "d23cedc8",
   "metadata": {},
   "outputs": [],
   "source": [
    "i**=2"
   ]
  },
  {
   "cell_type": "code",
   "execution_count": 4,
   "id": "2c82f956",
   "metadata": {},
   "outputs": [
    {
     "data": {
      "text/plain": [
       "16"
      ]
     },
     "execution_count": 4,
     "metadata": {},
     "output_type": "execute_result"
    }
   ],
   "source": [
    "i"
   ]
  },
  {
   "cell_type": "code",
   "execution_count": 5,
   "id": "58c8c8a9",
   "metadata": {},
   "outputs": [],
   "source": [
    "i*=10"
   ]
  },
  {
   "cell_type": "code",
   "execution_count": 6,
   "id": "8b6383d5",
   "metadata": {},
   "outputs": [
    {
     "data": {
      "text/plain": [
       "160"
      ]
     },
     "execution_count": 6,
     "metadata": {},
     "output_type": "execute_result"
    }
   ],
   "source": [
    "i"
   ]
  },
  {
   "cell_type": "code",
   "execution_count": 7,
   "id": "23308f4e",
   "metadata": {},
   "outputs": [],
   "source": [
    "i-=60"
   ]
  },
  {
   "cell_type": "code",
   "execution_count": 8,
   "id": "38555860",
   "metadata": {},
   "outputs": [
    {
     "data": {
      "text/plain": [
       "100"
      ]
     },
     "execution_count": 8,
     "metadata": {},
     "output_type": "execute_result"
    }
   ],
   "source": [
    "i"
   ]
  },
  {
   "cell_type": "code",
   "execution_count": 9,
   "id": "ac370e1b",
   "metadata": {},
   "outputs": [],
   "source": [
    "i+=10"
   ]
  },
  {
   "cell_type": "code",
   "execution_count": 10,
   "id": "536fe15f",
   "metadata": {},
   "outputs": [
    {
     "data": {
      "text/plain": [
       "110"
      ]
     },
     "execution_count": 10,
     "metadata": {},
     "output_type": "execute_result"
    }
   ],
   "source": [
    "i"
   ]
  },
  {
   "cell_type": "code",
   "execution_count": 11,
   "id": "08fb08ab",
   "metadata": {},
   "outputs": [],
   "source": [
    "i/=10\n",
    "#puede alternar el tipo de dato de int a float"
   ]
  },
  {
   "cell_type": "code",
   "execution_count": 12,
   "id": "e12f6362",
   "metadata": {},
   "outputs": [
    {
     "data": {
      "text/plain": [
       "11.0"
      ]
     },
     "execution_count": 12,
     "metadata": {},
     "output_type": "execute_result"
    }
   ],
   "source": [
    "i"
   ]
  },
  {
   "cell_type": "code",
   "execution_count": 13,
   "id": "3c2ee215",
   "metadata": {},
   "outputs": [],
   "source": [
    "i//=2"
   ]
  },
  {
   "cell_type": "code",
   "execution_count": 14,
   "id": "c3ccf785",
   "metadata": {},
   "outputs": [
    {
     "data": {
      "text/plain": [
       "5.0"
      ]
     },
     "execution_count": 14,
     "metadata": {},
     "output_type": "execute_result"
    }
   ],
   "source": [
    "i"
   ]
  },
  {
   "cell_type": "code",
   "execution_count": 15,
   "id": "332cde3b",
   "metadata": {},
   "outputs": [
    {
     "data": {
      "text/plain": [
       "float"
      ]
     },
     "execution_count": 15,
     "metadata": {},
     "output_type": "execute_result"
    }
   ],
   "source": [
    "type(i)"
   ]
  },
  {
   "cell_type": "code",
   "execution_count": 16,
   "id": "b16340e3",
   "metadata": {},
   "outputs": [
    {
     "data": {
      "text/plain": [
       "5.0"
      ]
     },
     "execution_count": 16,
     "metadata": {},
     "output_type": "execute_result"
    }
   ],
   "source": [
    "i"
   ]
  },
  {
   "cell_type": "code",
   "execution_count": 17,
   "id": "90c1076d",
   "metadata": {},
   "outputs": [],
   "source": [
    "i%=2"
   ]
  },
  {
   "cell_type": "code",
   "execution_count": 18,
   "id": "95d6787b",
   "metadata": {},
   "outputs": [
    {
     "data": {
      "text/plain": [
       "1.0"
      ]
     },
     "execution_count": 18,
     "metadata": {},
     "output_type": "execute_result"
    }
   ],
   "source": [
    "i"
   ]
  },
  {
   "cell_type": "code",
   "execution_count": 19,
   "id": "e51d1baf",
   "metadata": {},
   "outputs": [],
   "source": [
    "contador=1"
   ]
  },
  {
   "cell_type": "code",
   "execution_count": 22,
   "id": "e59559c3",
   "metadata": {},
   "outputs": [],
   "source": [
    "contador=contador+1"
   ]
  },
  {
   "cell_type": "code",
   "execution_count": 23,
   "id": "8e0b5187",
   "metadata": {},
   "outputs": [
    {
     "data": {
      "text/plain": [
       "2"
      ]
     },
     "execution_count": 23,
     "metadata": {},
     "output_type": "execute_result"
    }
   ],
   "source": [
    "contador"
   ]
  },
  {
   "cell_type": "code",
   "execution_count": 24,
   "id": "4b6c25a3",
   "metadata": {},
   "outputs": [
    {
     "data": {
      "text/plain": [
       "3"
      ]
     },
     "execution_count": 24,
     "metadata": {},
     "output_type": "execute_result"
    }
   ],
   "source": [
    "contador+=1\n",
    "contador"
   ]
  },
  {
   "cell_type": "markdown",
   "id": "6b066bc6",
   "metadata": {},
   "source": [
    "# Operadores comparativos"
   ]
  },
  {
   "cell_type": "code",
   "execution_count": 25,
   "id": "72c98c57",
   "metadata": {},
   "outputs": [
    {
     "data": {
      "text/plain": [
       "False"
      ]
     },
     "execution_count": 25,
     "metadata": {},
     "output_type": "execute_result"
    }
   ],
   "source": [
    "1==2"
   ]
  },
  {
   "cell_type": "code",
   "execution_count": 26,
   "id": "48668605",
   "metadata": {},
   "outputs": [
    {
     "data": {
      "text/plain": [
       "True"
      ]
     },
     "execution_count": 26,
     "metadata": {},
     "output_type": "execute_result"
    }
   ],
   "source": [
    "1<2 # > < <= >="
   ]
  },
  {
   "cell_type": "code",
   "execution_count": 27,
   "id": "b1012466",
   "metadata": {},
   "outputs": [
    {
     "data": {
      "text/plain": [
       "True"
      ]
     },
     "execution_count": 27,
     "metadata": {},
     "output_type": "execute_result"
    }
   ],
   "source": [
    "1!=2 #evalua diferencia"
   ]
  },
  {
   "cell_type": "code",
   "execution_count": 28,
   "id": "4c5f7868",
   "metadata": {},
   "outputs": [
    {
     "data": {
      "text/plain": [
       "('Hola', 'Mundo')"
      ]
     },
     "execution_count": 28,
     "metadata": {},
     "output_type": "execute_result"
    }
   ],
   "source": [
    "c1, c2 = \"Hola\", \"Mundo\"\n",
    "c1,c2"
   ]
  },
  {
   "cell_type": "code",
   "execution_count": 29,
   "id": "440b9313",
   "metadata": {},
   "outputs": [],
   "source": [
    "l1,l2=[3,\"bienvenido\",23], [True, \"Gracias\"]"
   ]
  },
  {
   "cell_type": "code",
   "execution_count": 30,
   "id": "bd4987c6",
   "metadata": {},
   "outputs": [
    {
     "data": {
      "text/plain": [
       "False"
      ]
     },
     "execution_count": 30,
     "metadata": {},
     "output_type": "execute_result"
    }
   ],
   "source": [
    "l1==l2"
   ]
  },
  {
   "cell_type": "code",
   "execution_count": 31,
   "id": "351189c8",
   "metadata": {},
   "outputs": [
    {
     "data": {
      "text/plain": [
       "([3, 'bienvenido', 23], [True, 'Gracias'])"
      ]
     },
     "execution_count": 31,
     "metadata": {},
     "output_type": "execute_result"
    }
   ],
   "source": [
    "l1,l2"
   ]
  },
  {
   "cell_type": "code",
   "execution_count": 32,
   "id": "27249f65",
   "metadata": {},
   "outputs": [
    {
     "data": {
      "text/plain": [
       "False"
      ]
     },
     "execution_count": 32,
     "metadata": {},
     "output_type": "execute_result"
    }
   ],
   "source": [
    "c1==c2"
   ]
  },
  {
   "cell_type": "code",
   "execution_count": 33,
   "id": "271170c2",
   "metadata": {},
   "outputs": [],
   "source": [
    "a,b,c=\"Hola\",\"Mundo\",\" \""
   ]
  },
  {
   "cell_type": "code",
   "execution_count": 35,
   "id": "c0460f13",
   "metadata": {},
   "outputs": [
    {
     "data": {
      "text/plain": [
       "'HolaMundo '"
      ]
     },
     "execution_count": 35,
     "metadata": {},
     "output_type": "execute_result"
    }
   ],
   "source": [
    "a+b+c"
   ]
  },
  {
   "cell_type": "code",
   "execution_count": 36,
   "id": "a0957d17",
   "metadata": {},
   "outputs": [
    {
     "data": {
      "text/plain": [
       "'Hola Mundo'"
      ]
     },
     "execution_count": 36,
     "metadata": {},
     "output_type": "execute_result"
    }
   ],
   "source": [
    "a+c+b"
   ]
  },
  {
   "cell_type": "code",
   "execution_count": 37,
   "id": "a8113d21",
   "metadata": {},
   "outputs": [
    {
     "data": {
      "text/plain": [
       "'HolaHolaHola Mundo'"
      ]
     },
     "execution_count": 37,
     "metadata": {},
     "output_type": "execute_result"
    }
   ],
   "source": [
    "a*3+c+b"
   ]
  },
  {
   "cell_type": "code",
   "execution_count": 38,
   "id": "84a44ebe",
   "metadata": {},
   "outputs": [],
   "source": [
    "d=\"Murciélago\""
   ]
  },
  {
   "cell_type": "code",
   "execution_count": 39,
   "id": "0ab54b99",
   "metadata": {},
   "outputs": [
    {
     "data": {
      "text/plain": [
       "'lago'"
      ]
     },
     "execution_count": 39,
     "metadata": {},
     "output_type": "execute_result"
    }
   ],
   "source": [
    "d[6:10]"
   ]
  },
  {
   "cell_type": "code",
   "execution_count": 40,
   "id": "fbe051dc",
   "metadata": {},
   "outputs": [
    {
     "data": {
      "text/plain": [
       "'urciélag'"
      ]
     },
     "execution_count": 40,
     "metadata": {},
     "output_type": "execute_result"
    }
   ],
   "source": [
    "d[1:-1]"
   ]
  },
  {
   "cell_type": "code",
   "execution_count": 41,
   "id": "728f951a",
   "metadata": {},
   "outputs": [
    {
     "data": {
      "text/plain": [
       "''"
      ]
     },
     "execution_count": 41,
     "metadata": {},
     "output_type": "execute_result"
    }
   ],
   "source": [
    "d[1:0]"
   ]
  },
  {
   "cell_type": "code",
   "execution_count": 42,
   "id": "cf8a6104",
   "metadata": {},
   "outputs": [
    {
     "data": {
      "text/plain": [
       "True"
      ]
     },
     "execution_count": 42,
     "metadata": {},
     "output_type": "execute_result"
    }
   ],
   "source": [
    "d[6:10]!=d"
   ]
  },
  {
   "cell_type": "code",
   "execution_count": 44,
   "id": "f88735d7",
   "metadata": {},
   "outputs": [
    {
     "data": {
      "text/plain": [
       "False"
      ]
     },
     "execution_count": 44,
     "metadata": {},
     "output_type": "execute_result"
    }
   ],
   "source": [
    "d[6:10]==d"
   ]
  },
  {
   "cell_type": "code",
   "execution_count": 46,
   "id": "52835981",
   "metadata": {},
   "outputs": [
    {
     "data": {
      "text/plain": [
       "'Murciélago'"
      ]
     },
     "execution_count": 46,
     "metadata": {},
     "output_type": "execute_result"
    }
   ],
   "source": [
    "d"
   ]
  },
  {
   "cell_type": "code",
   "execution_count": 47,
   "id": "e5446a02",
   "metadata": {},
   "outputs": [
    {
     "data": {
      "text/plain": [
       "12.0"
      ]
     },
     "execution_count": 47,
     "metadata": {},
     "output_type": "execute_result"
    }
   ],
   "source": [
    "x=24/2\n",
    "x"
   ]
  },
  {
   "cell_type": "code",
   "execution_count": 48,
   "id": "cd5eefac",
   "metadata": {},
   "outputs": [],
   "source": [
    "y=(6+15)*3"
   ]
  },
  {
   "cell_type": "code",
   "execution_count": 49,
   "id": "f4e05952",
   "metadata": {},
   "outputs": [
    {
     "data": {
      "text/plain": [
       "63"
      ]
     },
     "execution_count": 49,
     "metadata": {},
     "output_type": "execute_result"
    }
   ],
   "source": [
    "y"
   ]
  },
  {
   "cell_type": "code",
   "execution_count": 50,
   "id": "1731a285",
   "metadata": {},
   "outputs": [
    {
     "data": {
      "text/plain": [
       "63"
      ]
     },
     "execution_count": 50,
     "metadata": {},
     "output_type": "execute_result"
    }
   ],
   "source": [
    "max(y,6)"
   ]
  },
  {
   "cell_type": "markdown",
   "id": "360d3710",
   "metadata": {},
   "source": [
    "# Máscaras"
   ]
  },
  {
   "cell_type": "code",
   "execution_count": 51,
   "id": "ef9bee39",
   "metadata": {},
   "outputs": [
    {
     "data": {
      "text/plain": [
       "<module 'numpy' from 'C:\\\\Users\\\\MRODRIGUEZC\\\\Anaconda3\\\\envs\\\\python_fundamentals\\\\lib\\\\site-packages\\\\numpy\\\\__init__.py'>"
      ]
     },
     "execution_count": 51,
     "metadata": {},
     "output_type": "execute_result"
    }
   ],
   "source": [
    "np"
   ]
  },
  {
   "cell_type": "code",
   "execution_count": 52,
   "id": "174a17f8",
   "metadata": {},
   "outputs": [],
   "source": [
    "a=np.array([1,2,3,4,5,6,7])"
   ]
  },
  {
   "cell_type": "code",
   "execution_count": 53,
   "id": "bfc734a0",
   "metadata": {},
   "outputs": [
    {
     "data": {
      "text/plain": [
       "array([1, 2, 3, 4, 5, 6, 7])"
      ]
     },
     "execution_count": 53,
     "metadata": {},
     "output_type": "execute_result"
    }
   ],
   "source": [
    "a"
   ]
  },
  {
   "cell_type": "code",
   "execution_count": 54,
   "id": "e36adbe1",
   "metadata": {},
   "outputs": [
    {
     "data": {
      "text/plain": [
       "array([False, False, False,  True,  True,  True,  True])"
      ]
     },
     "execution_count": 54,
     "metadata": {},
     "output_type": "execute_result"
    }
   ],
   "source": [
    "mask=a>3\n",
    "mask"
   ]
  },
  {
   "cell_type": "markdown",
   "id": "622483a8",
   "metadata": {},
   "source": [
    "# Ciclos"
   ]
  },
  {
   "cell_type": "markdown",
   "id": "c1aca671",
   "metadata": {},
   "source": [
    "## if elif else"
   ]
  },
  {
   "cell_type": "code",
   "execution_count": 59,
   "id": "a78e0265",
   "metadata": {},
   "outputs": [],
   "source": [
    "a=5"
   ]
  },
  {
   "cell_type": "code",
   "execution_count": 60,
   "id": "9aab3cbe",
   "metadata": {},
   "outputs": [
    {
     "name": "stdout",
     "output_type": "stream",
     "text": [
      "5\n"
     ]
    }
   ],
   "source": [
    "if a==3:\n",
    "    a=a*3\n",
    "    print(a)\n",
    "elif a>10:\n",
    "    a%=2\n",
    "    print(a)\n",
    "else:\n",
    "    print(a)\n",
    "        "
   ]
  },
  {
   "cell_type": "code",
   "execution_count": 61,
   "id": "bd61d402",
   "metadata": {},
   "outputs": [
    {
     "name": "stdout",
     "output_type": "stream",
     "text": [
      "5\n"
     ]
    }
   ],
   "source": [
    "if a == 3:\n",
    "    a=a*3\n",
    "    print(a)\n",
    "elif a!=3:\n",
    "    print(a)"
   ]
  },
  {
   "cell_type": "code",
   "execution_count": 63,
   "id": "9542b400",
   "metadata": {},
   "outputs": [
    {
     "name": "stdout",
     "output_type": "stream",
     "text": [
      "15\n"
     ]
    }
   ],
   "source": [
    "if a==5:\n",
    "    a=a*3\n",
    "    print(a)"
   ]
  },
  {
   "cell_type": "code",
   "execution_count": 64,
   "id": "eaf885a5",
   "metadata": {},
   "outputs": [
    {
     "name": "stdout",
     "output_type": "stream",
     "text": [
      "eres mayor de edad\n"
     ]
    }
   ],
   "source": [
    "miEdad=35\n",
    "if miEdad>=18:\n",
    "    print(\"eres mayor de edad\")\n",
    "else:\n",
    "    print(\"no eres mayor de edad\")"
   ]
  },
  {
   "cell_type": "code",
   "execution_count": 72,
   "id": "8e2019de",
   "metadata": {},
   "outputs": [
    {
     "name": "stdout",
     "output_type": "stream",
     "text": [
      "Proporcione su edad:23\n",
      "eres mayor de edad, tienes 23\n"
     ]
    }
   ],
   "source": [
    "miEdad=int(input(\"Proporcione su edad:\"))\n",
    "if miEdad>=18:\n",
    "    print(\"eres mayor de edad, tienes {0}\".format(miEdad))\n",
    "else:\n",
    "    print(\"no eres mayor de edad, apenas tienes \", miEdad)"
   ]
  },
  {
   "cell_type": "code",
   "execution_count": 76,
   "id": "20136406",
   "metadata": {
    "scrolled": true
   },
   "outputs": [
    {
     "name": "stdout",
     "output_type": "stream",
     "text": [
      "ingresa el número 1: 23\n",
      "ingresa el número 2: 24\n",
      "el numero 24 es mayor que el numero 23\n"
     ]
    }
   ],
   "source": [
    "n1=int(input(\"ingresa el número 1: \"))\n",
    "n2=int(input(\"ingresa el número 2: \"))\n",
    "if n1==n2:\n",
    "    print(\"los numeros son iguales: \", n1)\n",
    "else:\n",
    "    print(\"el numero {0} es mayor que el numero {1}\".format(max(n1,n2),min(n1,n2)))"
   ]
  },
  {
   "cell_type": "markdown",
   "id": "ff2e30a5",
   "metadata": {},
   "source": [
    "## For"
   ]
  },
  {
   "cell_type": "code",
   "execution_count": 77,
   "id": "4b181b9d",
   "metadata": {},
   "outputs": [],
   "source": [
    "numeros=[1,2,3,4,5,6]"
   ]
  },
  {
   "cell_type": "code",
   "execution_count": 78,
   "id": "6016eb8e",
   "metadata": {},
   "outputs": [
    {
     "data": {
      "text/plain": [
       "[1, 2, 3, 4, 5, 6]"
      ]
     },
     "execution_count": 78,
     "metadata": {},
     "output_type": "execute_result"
    }
   ],
   "source": [
    "numeros"
   ]
  },
  {
   "cell_type": "code",
   "execution_count": 82,
   "id": "7d4cfad5",
   "metadata": {},
   "outputs": [
    {
     "name": "stdout",
     "output_type": "stream",
     "text": [
      "1\n",
      "2\n",
      "3\n",
      "4\n",
      "5\n",
      "6\n"
     ]
    }
   ],
   "source": [
    "for i in numeros:\n",
    "    print(i)"
   ]
  },
  {
   "cell_type": "code",
   "execution_count": 86,
   "id": "55f705d4",
   "metadata": {},
   "outputs": [
    {
     "name": "stdout",
     "output_type": "stream",
     "text": [
      "A\n",
      "B\n",
      "C\n"
     ]
    }
   ],
   "source": [
    "diccionario={\"A\":2,\"B\":3,\"C\":4}\n",
    "for k in diccionario:\n",
    "    print(k)"
   ]
  },
  {
   "cell_type": "code",
   "execution_count": 87,
   "id": "822433c2",
   "metadata": {},
   "outputs": [
    {
     "name": "stdout",
     "output_type": "stream",
     "text": [
      "2\n",
      "3\n",
      "4\n"
     ]
    }
   ],
   "source": [
    "for v in diccionario.values():\n",
    "    print(v)"
   ]
  },
  {
   "cell_type": "code",
   "execution_count": 89,
   "id": "da898bd2",
   "metadata": {},
   "outputs": [
    {
     "name": "stdout",
     "output_type": "stream",
     "text": [
      "key: A \n",
      "value: 2\n",
      "key: B \n",
      "value: 3\n",
      "key: C \n",
      "value: 4\n"
     ]
    }
   ],
   "source": [
    "for k,v in diccionario.items():\n",
    "    print(\"key:\", k,\"\\nvalue:\",v)"
   ]
  },
  {
   "cell_type": "code",
   "execution_count": 90,
   "id": "05ac3934",
   "metadata": {},
   "outputs": [
    {
     "name": "stdout",
     "output_type": "stream",
     "text": [
      "key: A \n",
      "value: 2\n",
      "key: B \n",
      "value: 3\n",
      "key: C \n",
      "value: 4\n"
     ]
    }
   ],
   "source": [
    "for k,v in zip(diccionario, diccionario.values()):\n",
    "    print(\"key:\", k,\"\\nvalue:\",v)"
   ]
  },
  {
   "cell_type": "code",
   "execution_count": 93,
   "id": "722dfa5a",
   "metadata": {},
   "outputs": [
    {
     "name": "stdout",
     "output_type": "stream",
     "text": [
      "0\n",
      "2\n",
      "4\n",
      "6\n",
      "8\n",
      "10\n",
      "12\n",
      "14\n",
      "16\n",
      "18\n"
     ]
    }
   ],
   "source": [
    "for e in range(0,20,2):#(inicio, fin, incremento)\n",
    "    print(e)"
   ]
  },
  {
   "cell_type": "code",
   "execution_count": 95,
   "id": "58f639b9",
   "metadata": {},
   "outputs": [
    {
     "data": {
      "text/plain": [
       "[0, 7, 14]"
      ]
     },
     "execution_count": 95,
     "metadata": {},
     "output_type": "execute_result"
    }
   ],
   "source": [
    "r=list(range(0,20,7))\n",
    "r"
   ]
  },
  {
   "cell_type": "code",
   "execution_count": 96,
   "id": "f01a5aa6",
   "metadata": {},
   "outputs": [
    {
     "data": {
      "text/plain": [
       "[1, 2, 3, 4, 5, 6]"
      ]
     },
     "execution_count": 96,
     "metadata": {},
     "output_type": "execute_result"
    }
   ],
   "source": [
    "numeros"
   ]
  },
  {
   "cell_type": "code",
   "execution_count": 97,
   "id": "cd1c96be",
   "metadata": {},
   "outputs": [
    {
     "name": "stdout",
     "output_type": "stream",
     "text": [
      "1\n",
      "2\n",
      "3\n",
      "4\n"
     ]
    }
   ],
   "source": [
    "for n in numeros:\n",
    "    if n==5:\n",
    "        break\n",
    "    print(n)"
   ]
  },
  {
   "cell_type": "code",
   "execution_count": 98,
   "id": "1ac0838e",
   "metadata": {},
   "outputs": [
    {
     "name": "stdout",
     "output_type": "stream",
     "text": [
      "1\n",
      "2\n",
      "3\n",
      "4\n",
      "6\n"
     ]
    }
   ],
   "source": [
    "for n in numeros:\n",
    "    if n==5:\n",
    "        continue\n",
    "    print(n)"
   ]
  },
  {
   "cell_type": "code",
   "execution_count": 107,
   "id": "04021ef2",
   "metadata": {},
   "outputs": [],
   "source": [
    "for n in numeros:\n",
    "    if n==1:\n",
    "        break\n",
    "else:\n",
    "    print(n)"
   ]
  },
  {
   "cell_type": "code",
   "execution_count": 110,
   "id": "824d34c8",
   "metadata": {},
   "outputs": [
    {
     "name": "stdout",
     "output_type": "stream",
     "text": [
      "Ale dijo: 34\n",
      "\n",
      "Beto dijo: 5\n",
      "\n",
      "Jose dijo: -9\n",
      "\n",
      "Roberto dijo: 12\n",
      "\n",
      "Nelson dijo: 24\n",
      "\n",
      "el número más grande es 34\n",
      "el número más pequeño es -9\n"
     ]
    }
   ],
   "source": [
    "diccionario = {\"Ale\":34,\"Beto\":5,\"Jose\":-9,\"Roberto\":12,\"Nelson\":24}\n",
    "for i,j in diccionario.items():\n",
    "    print(\"{0} dijo: {1}\\n\".format(i,j))\n",
    "print(\"el número más grande es {0}\".format(max(diccionario.values())))\n",
    "print(\"el número más pequeño es {0}\".format(min(diccionario.values())))"
   ]
  },
  {
   "cell_type": "markdown",
   "id": "3eb398dd",
   "metadata": {},
   "source": [
    "## While"
   ]
  },
  {
   "cell_type": "code",
   "execution_count": 111,
   "id": "e1e276b7",
   "metadata": {},
   "outputs": [
    {
     "name": "stdout",
     "output_type": "stream",
     "text": [
      "Escribe un número positivo: -1\n",
      "El número no es positivo, intente de nuevo\n",
      "Escribe un número positivo: -45\n",
      "El número no es positivo, intente de nuevo\n",
      "Escribe un número positivo: -59\n",
      "El número no es positivo, intente de nuevo\n",
      "Escribe un número positivo: 36\n",
      "Número positivo, gracias!!!\n"
     ]
    }
   ],
   "source": [
    "numero=int(input(\"Escribe un número positivo: \"))\n",
    "while numero<0:\n",
    "    print(\"El número no es positivo, intente de nuevo\")\n",
    "    numero=int(input(\"Escribe un número positivo: \"))\n",
    "print(\"Número positivo, gracias!!!\")"
   ]
  },
  {
   "cell_type": "code",
   "execution_count": 117,
   "id": "8c66ee0c",
   "metadata": {},
   "outputs": [
    {
     "name": "stdout",
     "output_type": "stream",
     "text": [
      "La suma es  55 , iteramos  11  veces\n"
     ]
    }
   ],
   "source": [
    "n0=1\n",
    "n1=0\n",
    "while n0 <= 10:\n",
    "    n1+=n0\n",
    "    n0+=1\n",
    "print(\"La suma es \", n1,\", iteramos \", n0, \" veces\")"
   ]
  },
  {
   "cell_type": "code",
   "execution_count": 121,
   "id": "616a593f",
   "metadata": {},
   "outputs": [
    {
     "name": "stdout",
     "output_type": "stream",
     "text": [
      "Ingrese -1 para terminar\n",
      "Ingrese primer nota del estudiante: 10\n",
      "Ingrese la siguiente nota: 7.1\n",
      "Ingrese la siguiente nota: 6.5\n",
      "Ingrese la siguiente nota: 10\n",
      "Ingrese la siguiente nota: 10\n",
      "Ingrese la siguiente nota: 9.8\n",
      "Ingrese la siguiente nota: 8\n",
      "Ingrese la siguiente nota: -1\n",
      "El promedio es: 8.771428571428572\n"
     ]
    }
   ],
   "source": [
    "total=0\n",
    "conteo=0\n",
    "print(\"Ingrese -1 para terminar\")\n",
    "grado = float(input(\"Ingrese primer nota del estudiante: \"))\n",
    "while grado != -1:\n",
    "    total+=grado\n",
    "    conteo+=1\n",
    "    grado = float(input(\"Ingrese la siguiente nota: \"))\n",
    "promedio=total/conteo\n",
    "print(\"El promedio es: \" + str(promedio))"
   ]
  },
  {
   "cell_type": "code",
   "execution_count": null,
   "id": "39e802ea",
   "metadata": {},
   "outputs": [],
   "source": []
  }
 ],
 "metadata": {
  "kernelspec": {
   "display_name": "Python 3",
   "language": "python",
   "name": "python3"
  },
  "language_info": {
   "codemirror_mode": {
    "name": "ipython",
    "version": 3
   },
   "file_extension": ".py",
   "mimetype": "text/x-python",
   "name": "python",
   "nbconvert_exporter": "python",
   "pygments_lexer": "ipython3",
   "version": "3.6.13"
  }
 },
 "nbformat": 4,
 "nbformat_minor": 5
}
