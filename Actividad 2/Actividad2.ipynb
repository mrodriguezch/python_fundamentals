{
 "cells": [
  {
   "cell_type": "code",
   "execution_count": 1,
   "id": "38bbcc48",
   "metadata": {},
   "outputs": [],
   "source": [
    "tupla=(1,\"uno\",1.0,[1],{1})"
   ]
  },
  {
   "cell_type": "code",
   "execution_count": 2,
   "id": "592169ae",
   "metadata": {},
   "outputs": [],
   "source": [
    "lista=list(tupla)"
   ]
  },
  {
   "cell_type": "code",
   "execution_count": 3,
   "id": "48cf6988",
   "metadata": {},
   "outputs": [],
   "source": [
    "diccionario = {j:i for i,j in zip(lista, list(range(1,6)))}"
   ]
  },
  {
   "cell_type": "code",
   "execution_count": 5,
   "id": "abfca784",
   "metadata": {},
   "outputs": [
    {
     "name": "stdout",
     "output_type": "stream",
     "text": [
      "{1: 1, 2: 'uno', 3: 1.0, 4: [1], 5: {1}}\n"
     ]
    }
   ],
   "source": [
    "print(diccionario)"
   ]
  }
 ],
 "metadata": {
  "kernelspec": {
   "display_name": "Python 3",
   "language": "python",
   "name": "python3"
  },
  "language_info": {
   "codemirror_mode": {
    "name": "ipython",
    "version": 3
   },
   "file_extension": ".py",
   "mimetype": "text/x-python",
   "name": "python",
   "nbconvert_exporter": "python",
   "pygments_lexer": "ipython3",
   "version": "3.6.13"
  }
 },
 "nbformat": 4,
 "nbformat_minor": 5
}
