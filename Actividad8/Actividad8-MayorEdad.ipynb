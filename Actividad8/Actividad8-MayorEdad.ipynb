{
 "cells": [
  {
   "cell_type": "code",
   "execution_count": null,
   "id": "18913ee6",
   "metadata": {},
   "outputs": [],
   "source": [
    "miEdad=35\n",
    "if miEdad>=18:\n",
    "    print(\"eres mayor de edad\")\n",
    "else:\n",
    "    print(\"no eres mayor de edad\")"
   ]
  }
 ],
 "metadata": {
  "kernelspec": {
   "display_name": "Python 3",
   "language": "python",
   "name": "python3"
  },
  "language_info": {
   "codemirror_mode": {
    "name": "ipython",
    "version": 3
   },
   "file_extension": ".py",
   "mimetype": "text/x-python",
   "name": "python",
   "nbconvert_exporter": "python",
   "pygments_lexer": "ipython3",
   "version": "3.6.13"
  }
 },
 "nbformat": 4,
 "nbformat_minor": 5
}
