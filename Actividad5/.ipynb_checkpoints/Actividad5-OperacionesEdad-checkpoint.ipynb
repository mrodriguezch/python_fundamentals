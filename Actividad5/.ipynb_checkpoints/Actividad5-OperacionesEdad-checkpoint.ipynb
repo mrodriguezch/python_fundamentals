{
 "cells": [
  {
   "cell_type": "code",
   "execution_count": 1,
   "id": "4bad96b8",
   "metadata": {},
   "outputs": [
    {
     "data": {
      "text/plain": [
       "12.0"
      ]
     },
     "execution_count": 1,
     "metadata": {},
     "output_type": "execute_result"
    }
   ],
   "source": [
    "x=24/2\n",
    "x"
   ]
  },
  {
   "cell_type": "code",
   "execution_count": 2,
   "id": "8d244ddc",
   "metadata": {},
   "outputs": [],
   "source": [
    "y=6"
   ]
  },
  {
   "cell_type": "code",
   "execution_count": 3,
   "id": "acc1db52",
   "metadata": {},
   "outputs": [],
   "source": [
    "z=(y+15)*3"
   ]
  },
  {
   "cell_type": "code",
   "execution_count": 4,
   "id": "9757051c",
   "metadata": {},
   "outputs": [
    {
     "data": {
      "text/plain": [
       "(6, 63)"
      ]
     },
     "execution_count": 4,
     "metadata": {},
     "output_type": "execute_result"
    }
   ],
   "source": [
    "y,z"
   ]
  },
  {
   "cell_type": "code",
   "execution_count": 5,
   "id": "7463fff2",
   "metadata": {},
   "outputs": [
    {
     "name": "stdout",
     "output_type": "stream",
     "text": [
      "y es mayor:  False\n"
     ]
    }
   ],
   "source": [
    "print (\"y es mayor: \", y>z )"
   ]
  },
  {
   "cell_type": "code",
   "execution_count": 6,
   "id": "b95f9088",
   "metadata": {},
   "outputs": [
    {
     "name": "stdout",
     "output_type": "stream",
     "text": [
      "z es mayor:  True\n"
     ]
    }
   ],
   "source": [
    "print(\"z es mayor: \", z>y)"
   ]
  }
 ],
 "metadata": {
  "kernelspec": {
   "display_name": "Python 3",
   "language": "python",
   "name": "python3"
  },
  "language_info": {
   "codemirror_mode": {
    "name": "ipython",
    "version": 3
   },
   "file_extension": ".py",
   "mimetype": "text/x-python",
   "name": "python",
   "nbconvert_exporter": "python",
   "pygments_lexer": "ipython3",
   "version": "3.6.13"
  }
 },
 "nbformat": 4,
 "nbformat_minor": 5
}
