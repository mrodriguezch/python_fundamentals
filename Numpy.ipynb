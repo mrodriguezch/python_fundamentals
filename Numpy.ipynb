{
 "cells": [
  {
   "cell_type": "code",
   "execution_count": 1,
   "id": "8accaaaf",
   "metadata": {},
   "outputs": [
    {
     "name": "stdout",
     "output_type": "stream",
     "text": [
      "Collecting numpy\n",
      "  Downloading numpy-1.19.5-cp36-cp36m-win_amd64.whl (13.2 MB)\n",
      "Installing collected packages: numpy\n",
      "Successfully installed numpy-1.19.5\n"
     ]
    }
   ],
   "source": [
    "!pip install numpy"
   ]
  },
  {
   "cell_type": "code",
   "execution_count": 8,
   "id": "564b11d1",
   "metadata": {},
   "outputs": [],
   "source": [
    "import numpy as np"
   ]
  },
  {
   "cell_type": "code",
   "execution_count": 3,
   "id": "770d35dd",
   "metadata": {},
   "outputs": [],
   "source": [
    "lista=[1,2,3]"
   ]
  },
  {
   "cell_type": "code",
   "execution_count": 12,
   "id": "482bfc62",
   "metadata": {},
   "outputs": [],
   "source": [
    "matriz = np.array(lista)"
   ]
  },
  {
   "cell_type": "code",
   "execution_count": 13,
   "id": "cf02ff37",
   "metadata": {},
   "outputs": [
    {
     "data": {
      "text/plain": [
       "array([1, 2, 3])"
      ]
     },
     "execution_count": 13,
     "metadata": {},
     "output_type": "execute_result"
    }
   ],
   "source": [
    "matriz"
   ]
  },
  {
   "cell_type": "code",
   "execution_count": 14,
   "id": "f5860d43",
   "metadata": {},
   "outputs": [
    {
     "data": {
      "text/plain": [
       "numpy.ndarray"
      ]
     },
     "execution_count": 14,
     "metadata": {},
     "output_type": "execute_result"
    }
   ],
   "source": [
    "type(matriz)"
   ]
  },
  {
   "cell_type": "code",
   "execution_count": 15,
   "id": "cb873b57",
   "metadata": {},
   "outputs": [
    {
     "data": {
      "text/plain": [
       "1"
      ]
     },
     "execution_count": 15,
     "metadata": {},
     "output_type": "execute_result"
    }
   ],
   "source": [
    "matriz.ndim\n"
   ]
  },
  {
   "cell_type": "code",
   "execution_count": 16,
   "id": "efa802f3",
   "metadata": {},
   "outputs": [
    {
     "data": {
      "text/plain": [
       "(3,)"
      ]
     },
     "execution_count": 16,
     "metadata": {},
     "output_type": "execute_result"
    }
   ],
   "source": [
    "matriz.shape"
   ]
  },
  {
   "cell_type": "code",
   "execution_count": 17,
   "id": "3aa64aec",
   "metadata": {},
   "outputs": [],
   "source": [
    "lista3=[1.0,True,\"a\",3]"
   ]
  },
  {
   "cell_type": "raw",
   "id": "36dda72f",
   "metadata": {},
   "source": [
    "matriz3=np.array(lista3)"
   ]
  },
  {
   "cell_type": "markdown",
   "id": "f2e4f730",
   "metadata": {},
   "source": [
    "matriz3"
   ]
  },
  {
   "cell_type": "code",
   "execution_count": 18,
   "id": "226cc079",
   "metadata": {},
   "outputs": [],
   "source": [
    "matriz3=np.array(lista3)"
   ]
  },
  {
   "cell_type": "code",
   "execution_count": 19,
   "id": "2dc5794c",
   "metadata": {},
   "outputs": [
    {
     "data": {
      "text/plain": [
       "array(['1.0', 'True', 'a', '3'], dtype='<U32')"
      ]
     },
     "execution_count": 19,
     "metadata": {},
     "output_type": "execute_result"
    }
   ],
   "source": [
    "matriz3"
   ]
  },
  {
   "cell_type": "code",
   "execution_count": 20,
   "id": "58cf132f",
   "metadata": {},
   "outputs": [
    {
     "name": "stdout",
     "output_type": "stream",
     "text": [
      "int32\n"
     ]
    }
   ],
   "source": [
    "print(matriz.dtype)"
   ]
  },
  {
   "cell_type": "code",
   "execution_count": 21,
   "id": "d0a04ac0",
   "metadata": {},
   "outputs": [
    {
     "name": "stdout",
     "output_type": "stream",
     "text": [
      "<U32\n"
     ]
    }
   ],
   "source": [
    "print(matriz3.dtype)"
   ]
  },
  {
   "cell_type": "markdown",
   "id": "4c09ce3e",
   "metadata": {},
   "source": [
    "## Matrices solo pueden tener 1 tipo de dato"
   ]
  },
  {
   "cell_type": "code",
   "execution_count": 22,
   "id": "f266fe77",
   "metadata": {},
   "outputs": [
    {
     "data": {
      "text/plain": [
       "3"
      ]
     },
     "execution_count": 22,
     "metadata": {},
     "output_type": "execute_result"
    }
   ],
   "source": [
    "3*True"
   ]
  },
  {
   "cell_type": "code",
   "execution_count": 23,
   "id": "44cc3779",
   "metadata": {},
   "outputs": [],
   "source": [
    "matriz4=np.array([1,2,3], dtype=\"float\")"
   ]
  },
  {
   "cell_type": "code",
   "execution_count": 24,
   "id": "ade650b8",
   "metadata": {},
   "outputs": [
    {
     "data": {
      "text/plain": [
       "array([1., 2., 3.])"
      ]
     },
     "execution_count": 24,
     "metadata": {},
     "output_type": "execute_result"
    }
   ],
   "source": [
    "matriz4"
   ]
  },
  {
   "cell_type": "code",
   "execution_count": 25,
   "id": "83b26a88",
   "metadata": {},
   "outputs": [
    {
     "data": {
      "text/plain": [
       "dtype('float64')"
      ]
     },
     "execution_count": 25,
     "metadata": {},
     "output_type": "execute_result"
    }
   ],
   "source": [
    "matriz4.dtype"
   ]
  },
  {
   "cell_type": "code",
   "execution_count": 26,
   "id": "dd369d2f",
   "metadata": {},
   "outputs": [],
   "source": [
    "matriz5=np.array([1,2,3], dtype=\"float16\")"
   ]
  },
  {
   "cell_type": "code",
   "execution_count": 27,
   "id": "2bbe8af8",
   "metadata": {},
   "outputs": [
    {
     "data": {
      "text/plain": [
       "dtype('float16')"
      ]
     },
     "execution_count": 27,
     "metadata": {},
     "output_type": "execute_result"
    }
   ],
   "source": [
    "matriz5.dtype"
   ]
  },
  {
   "cell_type": "markdown",
   "id": "d713b4ef",
   "metadata": {},
   "source": [
    "## Operaciones con matrices"
   ]
  },
  {
   "cell_type": "code",
   "execution_count": 28,
   "id": "d74fba10",
   "metadata": {},
   "outputs": [],
   "source": [
    "m=[1,2,3]\n",
    "n=[3,4,5]"
   ]
  },
  {
   "cell_type": "code",
   "execution_count": 33,
   "id": "afe89708",
   "metadata": {},
   "outputs": [
    {
     "data": {
      "text/plain": [
       "[1, 2, 3, 3, 4, 5]"
      ]
     },
     "execution_count": 33,
     "metadata": {},
     "output_type": "execute_result"
    }
   ],
   "source": [
    "m+n #la lista concatena su contenido"
   ]
  },
  {
   "cell_type": "code",
   "execution_count": 31,
   "id": "212cff5a",
   "metadata": {},
   "outputs": [],
   "source": [
    "matriz_m = np.array(m)\n",
    "matriz_n = np.array(n)"
   ]
  },
  {
   "cell_type": "code",
   "execution_count": 32,
   "id": "1814732b",
   "metadata": {},
   "outputs": [
    {
     "data": {
      "text/plain": [
       "array([4, 6, 8])"
      ]
     },
     "execution_count": 32,
     "metadata": {},
     "output_type": "execute_result"
    }
   ],
   "source": [
    "matriz_m + matriz_n #la matriz suma los elementos en cada posicion"
   ]
  },
  {
   "cell_type": "code",
   "execution_count": 34,
   "id": "627d764b",
   "metadata": {},
   "outputs": [
    {
     "data": {
      "text/plain": [
       "array([1, 4, 9], dtype=int32)"
      ]
     },
     "execution_count": 34,
     "metadata": {},
     "output_type": "execute_result"
    }
   ],
   "source": [
    "np.square(matriz_m)"
   ]
  },
  {
   "cell_type": "code",
   "execution_count": 35,
   "id": "3193f328",
   "metadata": {},
   "outputs": [
    {
     "data": {
      "text/plain": [
       "1"
      ]
     },
     "execution_count": 35,
     "metadata": {},
     "output_type": "execute_result"
    }
   ],
   "source": [
    "matriz_m[0]"
   ]
  },
  {
   "cell_type": "code",
   "execution_count": 36,
   "id": "816dd50f",
   "metadata": {},
   "outputs": [
    {
     "data": {
      "text/plain": [
       "3"
      ]
     },
     "execution_count": 36,
     "metadata": {},
     "output_type": "execute_result"
    }
   ],
   "source": [
    "matriz_m[-1]"
   ]
  },
  {
   "cell_type": "code",
   "execution_count": 37,
   "id": "c401c51d",
   "metadata": {},
   "outputs": [],
   "source": [
    "matriz_m[0] = True"
   ]
  },
  {
   "cell_type": "code",
   "execution_count": 38,
   "id": "9d0953b9",
   "metadata": {},
   "outputs": [
    {
     "data": {
      "text/plain": [
       "array([1, 2, 3])"
      ]
     },
     "execution_count": 38,
     "metadata": {},
     "output_type": "execute_result"
    }
   ],
   "source": [
    "matriz_m"
   ]
  },
  {
   "cell_type": "code",
   "execution_count": 39,
   "id": "7d51988b",
   "metadata": {},
   "outputs": [],
   "source": [
    "matriz_m[1] = True"
   ]
  },
  {
   "cell_type": "code",
   "execution_count": 40,
   "id": "cf42af09",
   "metadata": {},
   "outputs": [
    {
     "data": {
      "text/plain": [
       "array([1, 1, 3])"
      ]
     },
     "execution_count": 40,
     "metadata": {},
     "output_type": "execute_result"
    }
   ],
   "source": [
    "matriz_m"
   ]
  },
  {
   "cell_type": "code",
   "execution_count": 41,
   "id": "4d3ab284",
   "metadata": {},
   "outputs": [
    {
     "ename": "ValueError",
     "evalue": "invalid literal for int() with base 10: 'True'",
     "output_type": "error",
     "traceback": [
      "\u001b[1;31m---------------------------------------------------------------------------\u001b[0m",
      "\u001b[1;31mValueError\u001b[0m                                Traceback (most recent call last)",
      "\u001b[1;32m<ipython-input-41-1a726c9ba203>\u001b[0m in \u001b[0;36m<module>\u001b[1;34m\u001b[0m\n\u001b[1;32m----> 1\u001b[1;33m \u001b[0mmatriz_m\u001b[0m\u001b[1;33m[\u001b[0m\u001b[1;36m1\u001b[0m\u001b[1;33m]\u001b[0m \u001b[1;33m=\u001b[0m \u001b[1;34m\"True\"\u001b[0m\u001b[1;33m\u001b[0m\u001b[1;33m\u001b[0m\u001b[0m\n\u001b[0m",
      "\u001b[1;31mValueError\u001b[0m: invalid literal for int() with base 10: 'True'"
     ]
    }
   ],
   "source": [
    "matriz_m[1] = \"True\""
   ]
  },
  {
   "cell_type": "code",
   "execution_count": 42,
   "id": "6691ea2e",
   "metadata": {},
   "outputs": [],
   "source": [
    "matriz_o=np.array([6,7,8,9])"
   ]
  },
  {
   "cell_type": "code",
   "execution_count": 43,
   "id": "374fb9b8",
   "metadata": {},
   "outputs": [
    {
     "data": {
      "text/plain": [
       "array([6, 7, 8, 9])"
      ]
     },
     "execution_count": 43,
     "metadata": {},
     "output_type": "execute_result"
    }
   ],
   "source": [
    "matriz_o"
   ]
  },
  {
   "cell_type": "code",
   "execution_count": 44,
   "id": "b7807404",
   "metadata": {},
   "outputs": [
    {
     "ename": "ValueError",
     "evalue": "operands could not be broadcast together with shapes (3,) (4,) ",
     "output_type": "error",
     "traceback": [
      "\u001b[1;31m---------------------------------------------------------------------------\u001b[0m",
      "\u001b[1;31mValueError\u001b[0m                                Traceback (most recent call last)",
      "\u001b[1;32m<ipython-input-44-57f21ee6cc9a>\u001b[0m in \u001b[0;36m<module>\u001b[1;34m\u001b[0m\n\u001b[1;32m----> 1\u001b[1;33m \u001b[0mmatriz_m\u001b[0m\u001b[1;33m+\u001b[0m\u001b[0mmatriz_o\u001b[0m\u001b[1;33m\u001b[0m\u001b[1;33m\u001b[0m\u001b[0m\n\u001b[0m",
      "\u001b[1;31mValueError\u001b[0m: operands could not be broadcast together with shapes (3,) (4,) "
     ]
    }
   ],
   "source": [
    "matriz_m+matriz_o"
   ]
  },
  {
   "cell_type": "code",
   "execution_count": 45,
   "id": "243fb130",
   "metadata": {},
   "outputs": [
    {
     "ename": "ValueError",
     "evalue": "operands could not be broadcast together with shapes (3,) (4,) ",
     "output_type": "error",
     "traceback": [
      "\u001b[1;31m---------------------------------------------------------------------------\u001b[0m",
      "\u001b[1;31mValueError\u001b[0m                                Traceback (most recent call last)",
      "\u001b[1;32m<ipython-input-45-8a224f2130f0>\u001b[0m in \u001b[0;36m<module>\u001b[1;34m\u001b[0m\n\u001b[1;32m----> 1\u001b[1;33m \u001b[0mmatriz_m\u001b[0m\u001b[1;33m-\u001b[0m\u001b[0mmatriz_o\u001b[0m\u001b[1;33m\u001b[0m\u001b[1;33m\u001b[0m\u001b[0m\n\u001b[0m",
      "\u001b[1;31mValueError\u001b[0m: operands could not be broadcast together with shapes (3,) (4,) "
     ]
    }
   ],
   "source": [
    "matriz_m-matriz_o"
   ]
  },
  {
   "cell_type": "code",
   "execution_count": 46,
   "id": "c93cebf7",
   "metadata": {},
   "outputs": [
    {
     "data": {
      "text/plain": [
       "array([-2, -3, -2])"
      ]
     },
     "execution_count": 46,
     "metadata": {},
     "output_type": "execute_result"
    }
   ],
   "source": [
    "matriz_m-matriz_n"
   ]
  },
  {
   "cell_type": "code",
   "execution_count": 47,
   "id": "c4a2e601",
   "metadata": {},
   "outputs": [
    {
     "data": {
      "text/plain": [
       "array([2, 3, 2])"
      ]
     },
     "execution_count": 47,
     "metadata": {},
     "output_type": "execute_result"
    }
   ],
   "source": [
    "np.absolute(matriz_m-matriz_n)"
   ]
  },
  {
   "cell_type": "code",
   "execution_count": 48,
   "id": "dd15f1e0",
   "metadata": {},
   "outputs": [
    {
     "data": {
      "text/plain": [
       "array([3, 4, 5])"
      ]
     },
     "execution_count": 48,
     "metadata": {},
     "output_type": "execute_result"
    }
   ],
   "source": [
    "np.maximum(matriz_m,matriz_n)"
   ]
  },
  {
   "cell_type": "code",
   "execution_count": 49,
   "id": "6032efd3",
   "metadata": {},
   "outputs": [
    {
     "data": {
      "text/plain": [
       "array([1, 1, 3])"
      ]
     },
     "execution_count": 49,
     "metadata": {},
     "output_type": "execute_result"
    }
   ],
   "source": [
    "np.minimum(matriz_m,matriz_n)"
   ]
  },
  {
   "cell_type": "code",
   "execution_count": 50,
   "id": "a5bbc387",
   "metadata": {},
   "outputs": [
    {
     "data": {
      "text/plain": [
       "array([1, 1, 3])"
      ]
     },
     "execution_count": 50,
     "metadata": {},
     "output_type": "execute_result"
    }
   ],
   "source": [
    "matriz_m"
   ]
  },
  {
   "cell_type": "code",
   "execution_count": 51,
   "id": "e034b274",
   "metadata": {},
   "outputs": [
    {
     "data": {
      "text/plain": [
       "array([3, 4, 5])"
      ]
     },
     "execution_count": 51,
     "metadata": {},
     "output_type": "execute_result"
    }
   ],
   "source": [
    "matriz_n"
   ]
  },
  {
   "cell_type": "code",
   "execution_count": 52,
   "id": "676579bb",
   "metadata": {},
   "outputs": [
    {
     "ename": "ValueError",
     "evalue": "operands could not be broadcast together with shapes (3,) (4,) ",
     "output_type": "error",
     "traceback": [
      "\u001b[1;31m---------------------------------------------------------------------------\u001b[0m",
      "\u001b[1;31mValueError\u001b[0m                                Traceback (most recent call last)",
      "\u001b[1;32m<ipython-input-52-870ac4829f48>\u001b[0m in \u001b[0;36m<module>\u001b[1;34m\u001b[0m\n\u001b[1;32m----> 1\u001b[1;33m \u001b[0mnp\u001b[0m\u001b[1;33m.\u001b[0m\u001b[0mminimum\u001b[0m\u001b[1;33m(\u001b[0m\u001b[0mmatriz_m\u001b[0m\u001b[1;33m,\u001b[0m\u001b[0mmatriz_o\u001b[0m\u001b[1;33m)\u001b[0m\u001b[1;33m\u001b[0m\u001b[1;33m\u001b[0m\u001b[0m\n\u001b[0m",
      "\u001b[1;31mValueError\u001b[0m: operands could not be broadcast together with shapes (3,) (4,) "
     ]
    }
   ],
   "source": [
    "np.minimum(matriz_m,matriz_o)"
   ]
  },
  {
   "cell_type": "code",
   "execution_count": 53,
   "id": "516587f0",
   "metadata": {},
   "outputs": [],
   "source": [
    "desordenada=np.array([5,21,8,2,77,38,-90])"
   ]
  },
  {
   "cell_type": "code",
   "execution_count": 54,
   "id": "dedb7960",
   "metadata": {},
   "outputs": [
    {
     "data": {
      "text/plain": [
       "array([  5,  21,   8,   2,  77,  38, -90])"
      ]
     },
     "execution_count": 54,
     "metadata": {},
     "output_type": "execute_result"
    }
   ],
   "source": [
    "desordenada"
   ]
  },
  {
   "cell_type": "code",
   "execution_count": 55,
   "id": "27d14be4",
   "metadata": {},
   "outputs": [
    {
     "data": {
      "text/plain": [
       "array([-90,   2,   5,   8,  21,  38,  77])"
      ]
     },
     "execution_count": 55,
     "metadata": {},
     "output_type": "execute_result"
    }
   ],
   "source": [
    "desordenada.sort()\n",
    "desordenada"
   ]
  },
  {
   "cell_type": "code",
   "execution_count": 56,
   "id": "71d76fb1",
   "metadata": {},
   "outputs": [],
   "source": [
    "m1=np.array(range(1,6))\n",
    "m2=np.array(range(4,11))"
   ]
  },
  {
   "cell_type": "code",
   "execution_count": 57,
   "id": "00e4c7a3",
   "metadata": {},
   "outputs": [
    {
     "data": {
      "text/plain": [
       "array([1, 2, 3, 4, 5])"
      ]
     },
     "execution_count": 57,
     "metadata": {},
     "output_type": "execute_result"
    }
   ],
   "source": [
    "m1"
   ]
  },
  {
   "cell_type": "code",
   "execution_count": 58,
   "id": "f9cc8844",
   "metadata": {},
   "outputs": [
    {
     "data": {
      "text/plain": [
       "array([ 4,  5,  6,  7,  8,  9, 10])"
      ]
     },
     "execution_count": 58,
     "metadata": {},
     "output_type": "execute_result"
    }
   ],
   "source": [
    "m2"
   ]
  },
  {
   "cell_type": "code",
   "execution_count": 61,
   "id": "0127e126",
   "metadata": {},
   "outputs": [],
   "source": [
    "m3 = np.append(m1,m2)"
   ]
  },
  {
   "cell_type": "code",
   "execution_count": 62,
   "id": "1a0b2891",
   "metadata": {},
   "outputs": [
    {
     "data": {
      "text/plain": [
       "array([ 1,  2,  3,  4,  5,  4,  5,  6,  7,  8,  9, 10])"
      ]
     },
     "execution_count": 62,
     "metadata": {},
     "output_type": "execute_result"
    }
   ],
   "source": [
    "m3"
   ]
  },
  {
   "cell_type": "code",
   "execution_count": 63,
   "id": "2780fffa",
   "metadata": {},
   "outputs": [
    {
     "data": {
      "text/plain": [
       "array([ 1,  2, 11,  3,  4,  5,  4,  5,  6,  7,  8,  9, 10])"
      ]
     },
     "execution_count": 63,
     "metadata": {},
     "output_type": "execute_result"
    }
   ],
   "source": [
    "np.insert(m3,2,11,axis=0)"
   ]
  },
  {
   "cell_type": "code",
   "execution_count": 64,
   "id": "2b91fa93",
   "metadata": {},
   "outputs": [],
   "source": [
    "v=np.array(range(3,35))"
   ]
  },
  {
   "cell_type": "code",
   "execution_count": 65,
   "id": "47c6ab10",
   "metadata": {},
   "outputs": [
    {
     "data": {
      "text/plain": [
       "array([ 3,  4,  5,  6,  7,  8,  9, 10, 11, 12, 13, 14, 15, 16, 17, 18, 19,\n",
       "       20, 21, 22, 23, 24, 25, 26, 27, 28, 29, 30, 31, 32, 33, 34])"
      ]
     },
     "execution_count": 65,
     "metadata": {},
     "output_type": "execute_result"
    }
   ],
   "source": [
    "v"
   ]
  },
  {
   "cell_type": "code",
   "execution_count": 69,
   "id": "e938833e",
   "metadata": {},
   "outputs": [],
   "source": [
    "a=np.array(range(5))\n",
    "a=np.append(a,a)"
   ]
  },
  {
   "cell_type": "code",
   "execution_count": 70,
   "id": "7194707d",
   "metadata": {},
   "outputs": [
    {
     "data": {
      "text/plain": [
       "array([0, 1, 2, 3, 4, 0, 1, 2, 3, 4])"
      ]
     },
     "execution_count": 70,
     "metadata": {},
     "output_type": "execute_result"
    }
   ],
   "source": [
    "a"
   ]
  },
  {
   "cell_type": "code",
   "execution_count": 78,
   "id": "f9b7dd0b",
   "metadata": {},
   "outputs": [],
   "source": [
    "a.sort()"
   ]
  },
  {
   "cell_type": "code",
   "execution_count": 79,
   "id": "5907aa8b",
   "metadata": {},
   "outputs": [
    {
     "data": {
      "text/plain": [
       "array([0, 0, 1, 1, 2, 2, 3, 3, 4, 4])"
      ]
     },
     "execution_count": 79,
     "metadata": {},
     "output_type": "execute_result"
    }
   ],
   "source": [
    "a"
   ]
  },
  {
   "cell_type": "code",
   "execution_count": 83,
   "id": "1690c477",
   "metadata": {},
   "outputs": [],
   "source": [
    "a=np.array(list(range(5))+list(range(5)))"
   ]
  },
  {
   "cell_type": "code",
   "execution_count": 84,
   "id": "99da6e57",
   "metadata": {},
   "outputs": [
    {
     "data": {
      "text/plain": [
       "array([0, 1, 2, 3, 4, 0, 1, 2, 3, 4])"
      ]
     },
     "execution_count": 84,
     "metadata": {},
     "output_type": "execute_result"
    }
   ],
   "source": [
    "a2"
   ]
  },
  {
   "cell_type": "code",
   "execution_count": null,
   "id": "73d8be3c",
   "metadata": {},
   "outputs": [],
   "source": []
  }
 ],
 "metadata": {
  "kernelspec": {
   "display_name": "Python 3",
   "language": "python",
   "name": "python3"
  },
  "language_info": {
   "codemirror_mode": {
    "name": "ipython",
    "version": 3
   },
   "file_extension": ".py",
   "mimetype": "text/x-python",
   "name": "python",
   "nbconvert_exporter": "python",
   "pygments_lexer": "ipython3",
   "version": "3.6.13"
  }
 },
 "nbformat": 4,
 "nbformat_minor": 5
}
