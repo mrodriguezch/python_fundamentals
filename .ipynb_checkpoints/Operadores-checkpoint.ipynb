{
 "cells": [
  {
   "cell_type": "code",
   "execution_count": 1,
   "id": "b73e50fe",
   "metadata": {},
   "outputs": [],
   "source": [
    "import numpy as np"
   ]
  },
  {
   "cell_type": "code",
   "execution_count": 2,
   "id": "6e322c8a",
   "metadata": {},
   "outputs": [],
   "source": [
    "i=4"
   ]
  },
  {
   "cell_type": "code",
   "execution_count": 3,
   "id": "d23cedc8",
   "metadata": {},
   "outputs": [],
   "source": [
    "i**=2"
   ]
  },
  {
   "cell_type": "code",
   "execution_count": 4,
   "id": "2c82f956",
   "metadata": {},
   "outputs": [
    {
     "data": {
      "text/plain": [
       "16"
      ]
     },
     "execution_count": 4,
     "metadata": {},
     "output_type": "execute_result"
    }
   ],
   "source": [
    "i"
   ]
  },
  {
   "cell_type": "code",
   "execution_count": 5,
   "id": "58c8c8a9",
   "metadata": {},
   "outputs": [],
   "source": [
    "i*=10"
   ]
  },
  {
   "cell_type": "code",
   "execution_count": 6,
   "id": "8b6383d5",
   "metadata": {},
   "outputs": [
    {
     "data": {
      "text/plain": [
       "160"
      ]
     },
     "execution_count": 6,
     "metadata": {},
     "output_type": "execute_result"
    }
   ],
   "source": [
    "i"
   ]
  },
  {
   "cell_type": "code",
   "execution_count": 7,
   "id": "23308f4e",
   "metadata": {},
   "outputs": [],
   "source": [
    "i-=60"
   ]
  },
  {
   "cell_type": "code",
   "execution_count": 8,
   "id": "38555860",
   "metadata": {},
   "outputs": [
    {
     "data": {
      "text/plain": [
       "100"
      ]
     },
     "execution_count": 8,
     "metadata": {},
     "output_type": "execute_result"
    }
   ],
   "source": [
    "i"
   ]
  },
  {
   "cell_type": "code",
   "execution_count": 9,
   "id": "ac370e1b",
   "metadata": {},
   "outputs": [],
   "source": [
    "i+=10"
   ]
  },
  {
   "cell_type": "code",
   "execution_count": 10,
   "id": "536fe15f",
   "metadata": {},
   "outputs": [
    {
     "data": {
      "text/plain": [
       "110"
      ]
     },
     "execution_count": 10,
     "metadata": {},
     "output_type": "execute_result"
    }
   ],
   "source": [
    "i"
   ]
  },
  {
   "cell_type": "code",
   "execution_count": 11,
   "id": "08fb08ab",
   "metadata": {},
   "outputs": [],
   "source": [
    "i/=10\n",
    "#puede alternar el tipo de dato de int a float"
   ]
  },
  {
   "cell_type": "code",
   "execution_count": 12,
   "id": "e12f6362",
   "metadata": {},
   "outputs": [
    {
     "data": {
      "text/plain": [
       "11.0"
      ]
     },
     "execution_count": 12,
     "metadata": {},
     "output_type": "execute_result"
    }
   ],
   "source": [
    "i"
   ]
  },
  {
   "cell_type": "code",
   "execution_count": 13,
   "id": "3c2ee215",
   "metadata": {},
   "outputs": [],
   "source": [
    "i//=2"
   ]
  },
  {
   "cell_type": "code",
   "execution_count": 14,
   "id": "c3ccf785",
   "metadata": {},
   "outputs": [
    {
     "data": {
      "text/plain": [
       "5.0"
      ]
     },
     "execution_count": 14,
     "metadata": {},
     "output_type": "execute_result"
    }
   ],
   "source": [
    "i"
   ]
  },
  {
   "cell_type": "code",
   "execution_count": 15,
   "id": "332cde3b",
   "metadata": {},
   "outputs": [
    {
     "data": {
      "text/plain": [
       "float"
      ]
     },
     "execution_count": 15,
     "metadata": {},
     "output_type": "execute_result"
    }
   ],
   "source": [
    "type(i)"
   ]
  },
  {
   "cell_type": "code",
   "execution_count": 16,
   "id": "b16340e3",
   "metadata": {},
   "outputs": [
    {
     "data": {
      "text/plain": [
       "5.0"
      ]
     },
     "execution_count": 16,
     "metadata": {},
     "output_type": "execute_result"
    }
   ],
   "source": [
    "i"
   ]
  },
  {
   "cell_type": "code",
   "execution_count": 17,
   "id": "90c1076d",
   "metadata": {},
   "outputs": [],
   "source": [
    "i%=2"
   ]
  },
  {
   "cell_type": "code",
   "execution_count": 18,
   "id": "95d6787b",
   "metadata": {},
   "outputs": [
    {
     "data": {
      "text/plain": [
       "1.0"
      ]
     },
     "execution_count": 18,
     "metadata": {},
     "output_type": "execute_result"
    }
   ],
   "source": [
    "i"
   ]
  },
  {
   "cell_type": "code",
   "execution_count": 19,
   "id": "e51d1baf",
   "metadata": {},
   "outputs": [],
   "source": [
    "contador=1"
   ]
  },
  {
   "cell_type": "code",
   "execution_count": 22,
   "id": "e59559c3",
   "metadata": {},
   "outputs": [],
   "source": [
    "contador=contador+1"
   ]
  },
  {
   "cell_type": "code",
   "execution_count": 23,
   "id": "8e0b5187",
   "metadata": {},
   "outputs": [
    {
     "data": {
      "text/plain": [
       "2"
      ]
     },
     "execution_count": 23,
     "metadata": {},
     "output_type": "execute_result"
    }
   ],
   "source": [
    "contador"
   ]
  },
  {
   "cell_type": "code",
   "execution_count": 24,
   "id": "4b6c25a3",
   "metadata": {},
   "outputs": [
    {
     "data": {
      "text/plain": [
       "3"
      ]
     },
     "execution_count": 24,
     "metadata": {},
     "output_type": "execute_result"
    }
   ],
   "source": [
    "contador+=1\n",
    "contador"
   ]
  },
  {
   "cell_type": "markdown",
   "id": "6b066bc6",
   "metadata": {},
   "source": [
    "# Operadores comparativos"
   ]
  },
  {
   "cell_type": "code",
   "execution_count": 25,
   "id": "72c98c57",
   "metadata": {},
   "outputs": [
    {
     "data": {
      "text/plain": [
       "False"
      ]
     },
     "execution_count": 25,
     "metadata": {},
     "output_type": "execute_result"
    }
   ],
   "source": [
    "1==2"
   ]
  },
  {
   "cell_type": "code",
   "execution_count": 26,
   "id": "48668605",
   "metadata": {},
   "outputs": [
    {
     "data": {
      "text/plain": [
       "True"
      ]
     },
     "execution_count": 26,
     "metadata": {},
     "output_type": "execute_result"
    }
   ],
   "source": [
    "1<2 # > < <= >="
   ]
  },
  {
   "cell_type": "code",
   "execution_count": 27,
   "id": "b1012466",
   "metadata": {},
   "outputs": [
    {
     "data": {
      "text/plain": [
       "True"
      ]
     },
     "execution_count": 27,
     "metadata": {},
     "output_type": "execute_result"
    }
   ],
   "source": [
    "1!=2 #evalua diferencia"
   ]
  },
  {
   "cell_type": "code",
   "execution_count": 28,
   "id": "4c5f7868",
   "metadata": {},
   "outputs": [
    {
     "data": {
      "text/plain": [
       "('Hola', 'Mundo')"
      ]
     },
     "execution_count": 28,
     "metadata": {},
     "output_type": "execute_result"
    }
   ],
   "source": [
    "c1, c2 = \"Hola\", \"Mundo\"\n",
    "c1,c2"
   ]
  },
  {
   "cell_type": "code",
   "execution_count": 29,
   "id": "440b9313",
   "metadata": {},
   "outputs": [],
   "source": [
    "l1,l2=[3,\"bienvenido\",23], [True, \"Gracias\"]"
   ]
  },
  {
   "cell_type": "code",
   "execution_count": 30,
   "id": "bd4987c6",
   "metadata": {},
   "outputs": [
    {
     "data": {
      "text/plain": [
       "False"
      ]
     },
     "execution_count": 30,
     "metadata": {},
     "output_type": "execute_result"
    }
   ],
   "source": [
    "l1==l2"
   ]
  },
  {
   "cell_type": "code",
   "execution_count": 31,
   "id": "351189c8",
   "metadata": {},
   "outputs": [
    {
     "data": {
      "text/plain": [
       "([3, 'bienvenido', 23], [True, 'Gracias'])"
      ]
     },
     "execution_count": 31,
     "metadata": {},
     "output_type": "execute_result"
    }
   ],
   "source": [
    "l1,l2"
   ]
  },
  {
   "cell_type": "code",
   "execution_count": 32,
   "id": "27249f65",
   "metadata": {},
   "outputs": [
    {
     "data": {
      "text/plain": [
       "False"
      ]
     },
     "execution_count": 32,
     "metadata": {},
     "output_type": "execute_result"
    }
   ],
   "source": [
    "c1==c2"
   ]
  },
  {
   "cell_type": "code",
   "execution_count": 33,
   "id": "271170c2",
   "metadata": {},
   "outputs": [],
   "source": [
    "a,b,c=\"Hola\",\"Mundo\",\" \""
   ]
  },
  {
   "cell_type": "code",
   "execution_count": 35,
   "id": "c0460f13",
   "metadata": {},
   "outputs": [
    {
     "data": {
      "text/plain": [
       "'HolaMundo '"
      ]
     },
     "execution_count": 35,
     "metadata": {},
     "output_type": "execute_result"
    }
   ],
   "source": [
    "a+b+c"
   ]
  },
  {
   "cell_type": "code",
   "execution_count": 36,
   "id": "a0957d17",
   "metadata": {},
   "outputs": [
    {
     "data": {
      "text/plain": [
       "'Hola Mundo'"
      ]
     },
     "execution_count": 36,
     "metadata": {},
     "output_type": "execute_result"
    }
   ],
   "source": [
    "a+c+b"
   ]
  },
  {
   "cell_type": "code",
   "execution_count": 37,
   "id": "a8113d21",
   "metadata": {},
   "outputs": [
    {
     "data": {
      "text/plain": [
       "'HolaHolaHola Mundo'"
      ]
     },
     "execution_count": 37,
     "metadata": {},
     "output_type": "execute_result"
    }
   ],
   "source": [
    "a*3+c+b"
   ]
  },
  {
   "cell_type": "code",
   "execution_count": 38,
   "id": "84a44ebe",
   "metadata": {},
   "outputs": [],
   "source": [
    "d=\"Murciélago\""
   ]
  },
  {
   "cell_type": "code",
   "execution_count": 39,
   "id": "0ab54b99",
   "metadata": {},
   "outputs": [
    {
     "data": {
      "text/plain": [
       "'lago'"
      ]
     },
     "execution_count": 39,
     "metadata": {},
     "output_type": "execute_result"
    }
   ],
   "source": [
    "d[6:10]"
   ]
  },
  {
   "cell_type": "code",
   "execution_count": 40,
   "id": "fbe051dc",
   "metadata": {},
   "outputs": [
    {
     "data": {
      "text/plain": [
       "'urciélag'"
      ]
     },
     "execution_count": 40,
     "metadata": {},
     "output_type": "execute_result"
    }
   ],
   "source": [
    "d[1:-1]"
   ]
  },
  {
   "cell_type": "code",
   "execution_count": 41,
   "id": "728f951a",
   "metadata": {},
   "outputs": [
    {
     "data": {
      "text/plain": [
       "''"
      ]
     },
     "execution_count": 41,
     "metadata": {},
     "output_type": "execute_result"
    }
   ],
   "source": [
    "d[1:0]"
   ]
  },
  {
   "cell_type": "code",
   "execution_count": 42,
   "id": "cf8a6104",
   "metadata": {},
   "outputs": [
    {
     "data": {
      "text/plain": [
       "True"
      ]
     },
     "execution_count": 42,
     "metadata": {},
     "output_type": "execute_result"
    }
   ],
   "source": [
    "d[6:10]!=d"
   ]
  },
  {
   "cell_type": "code",
   "execution_count": 44,
   "id": "f88735d7",
   "metadata": {},
   "outputs": [
    {
     "data": {
      "text/plain": [
       "False"
      ]
     },
     "execution_count": 44,
     "metadata": {},
     "output_type": "execute_result"
    }
   ],
   "source": [
    "d[6:10]==d"
   ]
  },
  {
   "cell_type": "code",
   "execution_count": 46,
   "id": "52835981",
   "metadata": {},
   "outputs": [
    {
     "data": {
      "text/plain": [
       "'Murciélago'"
      ]
     },
     "execution_count": 46,
     "metadata": {},
     "output_type": "execute_result"
    }
   ],
   "source": [
    "d"
   ]
  },
  {
   "cell_type": "code",
   "execution_count": 47,
   "id": "e5446a02",
   "metadata": {},
   "outputs": [
    {
     "data": {
      "text/plain": [
       "12.0"
      ]
     },
     "execution_count": 47,
     "metadata": {},
     "output_type": "execute_result"
    }
   ],
   "source": [
    "x=24/2\n",
    "x"
   ]
  },
  {
   "cell_type": "code",
   "execution_count": 48,
   "id": "cd5eefac",
   "metadata": {},
   "outputs": [],
   "source": [
    "y=(6+15)*3"
   ]
  },
  {
   "cell_type": "code",
   "execution_count": 49,
   "id": "f4e05952",
   "metadata": {},
   "outputs": [
    {
     "data": {
      "text/plain": [
       "63"
      ]
     },
     "execution_count": 49,
     "metadata": {},
     "output_type": "execute_result"
    }
   ],
   "source": [
    "y"
   ]
  },
  {
   "cell_type": "code",
   "execution_count": 50,
   "id": "1731a285",
   "metadata": {},
   "outputs": [
    {
     "data": {
      "text/plain": [
       "63"
      ]
     },
     "execution_count": 50,
     "metadata": {},
     "output_type": "execute_result"
    }
   ],
   "source": [
    "max(y,6)"
   ]
  },
  {
   "cell_type": "markdown",
   "id": "360d3710",
   "metadata": {},
   "source": [
    "# Máscaras"
   ]
  },
  {
   "cell_type": "code",
   "execution_count": 51,
   "id": "ef9bee39",
   "metadata": {},
   "outputs": [
    {
     "data": {
      "text/plain": [
       "<module 'numpy' from 'C:\\\\Users\\\\MRODRIGUEZC\\\\Anaconda3\\\\envs\\\\python_fundamentals\\\\lib\\\\site-packages\\\\numpy\\\\__init__.py'>"
      ]
     },
     "execution_count": 51,
     "metadata": {},
     "output_type": "execute_result"
    }
   ],
   "source": [
    "np"
   ]
  },
  {
   "cell_type": "code",
   "execution_count": 52,
   "id": "174a17f8",
   "metadata": {},
   "outputs": [],
   "source": [
    "a=np.array([1,2,3,4,5,6,7])"
   ]
  },
  {
   "cell_type": "code",
   "execution_count": 53,
   "id": "bfc734a0",
   "metadata": {},
   "outputs": [
    {
     "data": {
      "text/plain": [
       "array([1, 2, 3, 4, 5, 6, 7])"
      ]
     },
     "execution_count": 53,
     "metadata": {},
     "output_type": "execute_result"
    }
   ],
   "source": [
    "a"
   ]
  },
  {
   "cell_type": "code",
   "execution_count": 54,
   "id": "e36adbe1",
   "metadata": {},
   "outputs": [
    {
     "data": {
      "text/plain": [
       "array([False, False, False,  True,  True,  True,  True])"
      ]
     },
     "execution_count": 54,
     "metadata": {},
     "output_type": "execute_result"
    }
   ],
   "source": [
    "mask=a>3\n",
    "mask"
   ]
  },
  {
   "cell_type": "code",
   "execution_count": null,
   "id": "d53574d1",
   "metadata": {},
   "outputs": [],
   "source": []
  }
 ],
 "metadata": {
  "kernelspec": {
   "display_name": "Python 3",
   "language": "python",
   "name": "python3"
  },
  "language_info": {
   "codemirror_mode": {
    "name": "ipython",
    "version": 3
   },
   "file_extension": ".py",
   "mimetype": "text/x-python",
   "name": "python",
   "nbconvert_exporter": "python",
   "pygments_lexer": "ipython3",
   "version": "3.6.13"
  }
 },
 "nbformat": 4,
 "nbformat_minor": 5
}
