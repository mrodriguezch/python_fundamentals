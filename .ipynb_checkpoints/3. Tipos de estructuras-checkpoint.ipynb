{
 "cells": [
  {
   "cell_type": "code",
   "execution_count": 20,
   "id": "26a14247",
   "metadata": {},
   "outputs": [],
   "source": [
    "#print(\"holi\");"
   ]
  },
  {
   "cell_type": "code",
   "execution_count": 2,
   "id": "40d207d7",
   "metadata": {},
   "outputs": [
    {
     "data": {
      "text/plain": [
       "3"
      ]
     },
     "execution_count": 2,
     "metadata": {},
     "output_type": "execute_result"
    }
   ],
   "source": [
    "1+2\n"
   ]
  },
  {
   "cell_type": "code",
   "execution_count": 3,
   "id": "b3f5c708",
   "metadata": {},
   "outputs": [
    {
     "ename": "ZeroDivisionError",
     "evalue": "division by zero",
     "output_type": "error",
     "traceback": [
      "\u001b[1;31m---------------------------------------------------------------------------\u001b[0m",
      "\u001b[1;31mZeroDivisionError\u001b[0m                         Traceback (most recent call last)",
      "\u001b[1;32m<ipython-input-3-9e1622b385b6>\u001b[0m in \u001b[0;36m<module>\u001b[1;34m\u001b[0m\n\u001b[1;32m----> 1\u001b[1;33m \u001b[1;36m1\u001b[0m\u001b[1;33m/\u001b[0m\u001b[1;36m0\u001b[0m\u001b[1;33m\u001b[0m\u001b[1;33m\u001b[0m\u001b[0m\n\u001b[0m",
      "\u001b[1;31mZeroDivisionError\u001b[0m: division by zero"
     ]
    }
   ],
   "source": [
    "1/0"
   ]
  },
  {
   "cell_type": "code",
   "execution_count": 4,
   "id": "080e7497",
   "metadata": {},
   "outputs": [
    {
     "data": {
      "text/plain": [
       "4"
      ]
     },
     "execution_count": 4,
     "metadata": {},
     "output_type": "execute_result"
    }
   ],
   "source": [
    "1+2\n",
    "1+3"
   ]
  },
  {
   "cell_type": "code",
   "execution_count": 5,
   "id": "18251631",
   "metadata": {},
   "outputs": [
    {
     "name": "stdout",
     "output_type": "stream",
     "text": [
      "hi\n",
      "hello\n"
     ]
    }
   ],
   "source": [
    "print('hi')\n",
    "print('hello')"
   ]
  },
  {
   "cell_type": "code",
   "execution_count": 6,
   "id": "b30e5b52",
   "metadata": {},
   "outputs": [
    {
     "ename": "NameError",
     "evalue": "name 'mean' is not defined",
     "output_type": "error",
     "traceback": [
      "\u001b[1;31m---------------------------------------------------------------------------\u001b[0m",
      "\u001b[1;31mNameError\u001b[0m                                 Traceback (most recent call last)",
      "\u001b[1;32m<ipython-input-6-c656cd5167e5>\u001b[0m in \u001b[0;36m<module>\u001b[1;34m\u001b[0m\n\u001b[1;32m----> 1\u001b[1;33m \u001b[0mmean\u001b[0m\u001b[1;33m(\u001b[0m\u001b[1;36m2\u001b[0m\u001b[1;33m)\u001b[0m\u001b[1;33m\u001b[0m\u001b[1;33m\u001b[0m\u001b[0m\n\u001b[0m",
      "\u001b[1;31mNameError\u001b[0m: name 'mean' is not defined"
     ]
    }
   ],
   "source": [
    "mean(2)"
   ]
  },
  {
   "cell_type": "code",
   "execution_count": 8,
   "id": "7a550a9d",
   "metadata": {},
   "outputs": [],
   "source": [
    "x=100"
   ]
  },
  {
   "cell_type": "code",
   "execution_count": 9,
   "id": "35316dae",
   "metadata": {},
   "outputs": [
    {
     "data": {
      "text/plain": [
       "100"
      ]
     },
     "execution_count": 9,
     "metadata": {},
     "output_type": "execute_result"
    }
   ],
   "source": [
    "x"
   ]
  },
  {
   "cell_type": "code",
   "execution_count": 10,
   "id": "ca10f79c",
   "metadata": {},
   "outputs": [],
   "source": [
    "decimales=10.34"
   ]
  },
  {
   "cell_type": "code",
   "execution_count": 11,
   "id": "c50f4685",
   "metadata": {},
   "outputs": [
    {
     "data": {
      "text/plain": [
       "10.34"
      ]
     },
     "execution_count": 11,
     "metadata": {},
     "output_type": "execute_result"
    }
   ],
   "source": [
    "decimales"
   ]
  },
  {
   "cell_type": "code",
   "execution_count": 12,
   "id": "429c2bb4",
   "metadata": {},
   "outputs": [
    {
     "data": {
      "text/plain": [
       "float"
      ]
     },
     "execution_count": 12,
     "metadata": {},
     "output_type": "execute_result"
    }
   ],
   "source": [
    "type(decimales)"
   ]
  },
  {
   "cell_type": "code",
   "execution_count": 13,
   "id": "83a8437d",
   "metadata": {},
   "outputs": [
    {
     "data": {
      "text/plain": [
       "3"
      ]
     },
     "execution_count": 13,
     "metadata": {},
     "output_type": "execute_result"
    }
   ],
   "source": [
    "3%10\n"
   ]
  },
  {
   "cell_type": "code",
   "execution_count": 14,
   "id": "3906d858",
   "metadata": {},
   "outputs": [
    {
     "data": {
      "text/plain": [
       "1"
      ]
     },
     "execution_count": 14,
     "metadata": {},
     "output_type": "execute_result"
    }
   ],
   "source": [
    "10%3"
   ]
  },
  {
   "cell_type": "code",
   "execution_count": 15,
   "id": "be519c26",
   "metadata": {},
   "outputs": [
    {
     "data": {
      "text/plain": [
       "0.3"
      ]
     },
     "execution_count": 15,
     "metadata": {},
     "output_type": "execute_result"
    }
   ],
   "source": [
    "3/10\n"
   ]
  },
  {
   "cell_type": "code",
   "execution_count": 16,
   "id": "8b1146ea",
   "metadata": {},
   "outputs": [
    {
     "data": {
      "text/plain": [
       "3.3333333333333335"
      ]
     },
     "execution_count": 16,
     "metadata": {},
     "output_type": "execute_result"
    }
   ],
   "source": [
    "10/3"
   ]
  },
  {
   "cell_type": "code",
   "execution_count": 17,
   "id": "845d1c22",
   "metadata": {},
   "outputs": [
    {
     "data": {
      "text/plain": [
       "3"
      ]
     },
     "execution_count": 17,
     "metadata": {},
     "output_type": "execute_result"
    }
   ],
   "source": [
    "10//3"
   ]
  },
  {
   "cell_type": "code",
   "execution_count": 18,
   "id": "9c2ac4a8",
   "metadata": {},
   "outputs": [
    {
     "data": {
      "text/plain": [
       "9"
      ]
     },
     "execution_count": 18,
     "metadata": {},
     "output_type": "execute_result"
    }
   ],
   "source": [
    "3*3"
   ]
  },
  {
   "cell_type": "code",
   "execution_count": 19,
   "id": "29cfe57d",
   "metadata": {},
   "outputs": [
    {
     "data": {
      "text/plain": [
       "27"
      ]
     },
     "execution_count": 19,
     "metadata": {},
     "output_type": "execute_result"
    }
   ],
   "source": [
    "3**3\n"
   ]
  },
  {
   "cell_type": "code",
   "execution_count": 22,
   "id": "2a5de907",
   "metadata": {},
   "outputs": [
    {
     "name": "stdout",
     "output_type": "stream",
     "text": [
      "holi\n"
     ]
    }
   ],
   "source": [
    "print(\"holi\")\n",
    "#soy un comentario"
   ]
  },
  {
   "cell_type": "code",
   "execution_count": 23,
   "id": "c77d08f1",
   "metadata": {},
   "outputs": [
    {
     "data": {
      "text/plain": [
       "10.34"
      ]
     },
     "execution_count": 23,
     "metadata": {},
     "output_type": "execute_result"
    }
   ],
   "source": [
    "decimales"
   ]
  },
  {
   "cell_type": "code",
   "execution_count": 27,
   "id": "0122f538",
   "metadata": {},
   "outputs": [
    {
     "name": "stdout",
     "output_type": "stream",
     "text": [
      "50\n"
     ]
    }
   ],
   "source": [
    "a=10\n",
    "b=5\n",
    "print(a*b)"
   ]
  },
  {
   "cell_type": "code",
   "execution_count": 29,
   "id": "0dd1f0bb",
   "metadata": {},
   "outputs": [
    {
     "name": "stdout",
     "output_type": "stream",
     "text": [
      "1\n"
     ]
    }
   ],
   "source": [
    "print(1)"
   ]
  },
  {
   "cell_type": "code",
   "execution_count": 35,
   "id": "35d2ba69",
   "metadata": {},
   "outputs": [],
   "source": [
    "i=[a,b,\"c\",\"2\",'3',1]"
   ]
  },
  {
   "cell_type": "code",
   "execution_count": 36,
   "id": "8f8471ba",
   "metadata": {},
   "outputs": [
    {
     "name": "stdout",
     "output_type": "stream",
     "text": [
      "['1', 5, 'c', '2', '3', 1]\n"
     ]
    }
   ],
   "source": [
    "print(i)\n"
   ]
  },
  {
   "cell_type": "code",
   "execution_count": 32,
   "id": "45dfd927",
   "metadata": {},
   "outputs": [],
   "source": [
    "a=\"w\""
   ]
  },
  {
   "cell_type": "code",
   "execution_count": 33,
   "id": "1b852606",
   "metadata": {},
   "outputs": [
    {
     "name": "stdout",
     "output_type": "stream",
     "text": [
      "w\n"
     ]
    }
   ],
   "source": [
    "print(a)\n"
   ]
  },
  {
   "cell_type": "code",
   "execution_count": 34,
   "id": "143c4aa9",
   "metadata": {},
   "outputs": [
    {
     "name": "stdout",
     "output_type": "stream",
     "text": [
      "1\n"
     ]
    }
   ],
   "source": [
    "a=\"1\"\n",
    "print(a)"
   ]
  },
  {
   "cell_type": "code",
   "execution_count": 37,
   "id": "7b0901f5",
   "metadata": {},
   "outputs": [
    {
     "ename": "SyntaxError",
     "evalue": "can't assign to literal (<ipython-input-37-3b84f1bb29c7>, line 1)",
     "output_type": "error",
     "traceback": [
      "\u001b[1;36m  File \u001b[1;32m\"<ipython-input-37-3b84f1bb29c7>\"\u001b[1;36m, line \u001b[1;32m1\u001b[0m\n\u001b[1;33m    2=False\u001b[0m\n\u001b[1;37m           ^\u001b[0m\n\u001b[1;31mSyntaxError\u001b[0m\u001b[1;31m:\u001b[0m can't assign to literal\n"
     ]
    }
   ],
   "source": [
    "2=False\n"
   ]
  },
  {
   "cell_type": "code",
   "execution_count": 38,
   "id": "057e5087",
   "metadata": {},
   "outputs": [],
   "source": [
    "x=2"
   ]
  },
  {
   "cell_type": "code",
   "execution_count": 39,
   "id": "6aaefc35",
   "metadata": {},
   "outputs": [],
   "source": [
    "x=False"
   ]
  },
  {
   "cell_type": "code",
   "execution_count": 40,
   "id": "a2bec37d",
   "metadata": {},
   "outputs": [
    {
     "name": "stdout",
     "output_type": "stream",
     "text": [
      "False\n"
     ]
    }
   ],
   "source": [
    "print(x)"
   ]
  },
  {
   "cell_type": "code",
   "execution_count": 41,
   "id": "4d29dd70",
   "metadata": {},
   "outputs": [
    {
     "data": {
      "text/plain": [
       "{'__name__': '__main__',\n",
       " '__doc__': 'Automatically created module for IPython interactive environment',\n",
       " '__package__': None,\n",
       " '__loader__': None,\n",
       " '__spec__': None,\n",
       " '__builtin__': <module 'builtins' (built-in)>,\n",
       " '__builtins__': <module 'builtins' (built-in)>,\n",
       " '_ih': ['',\n",
       "  'print(\"holi\");',\n",
       "  '1+2',\n",
       "  '1/0',\n",
       "  '1+2\\n1+3',\n",
       "  \"print('hi')\\nprint('hello')\",\n",
       "  'mean(2)',\n",
       "  'x',\n",
       "  'x=100',\n",
       "  'x',\n",
       "  'decimales=10.34',\n",
       "  'decimales',\n",
       "  'type(decimales)',\n",
       "  '3%10',\n",
       "  '10%3',\n",
       "  '3/10',\n",
       "  '10/3',\n",
       "  '10//3',\n",
       "  '3*3',\n",
       "  '3**3',\n",
       "  '#print(\"holi\");',\n",
       "  '#soy un comentario',\n",
       "  'print(\"holi\")\\n#soy un comentario',\n",
       "  'decimales',\n",
       "  'a=10\\nb=5\\nprint(a*b)',\n",
       "  'a=10\\nb=5\\nprint(\"\"+a*b)',\n",
       "  'a=10\\nb=5\\nprint(\"\"&a*b)',\n",
       "  'a=10\\nb=5\\nprint(a*b)',\n",
       "  'Print(1)',\n",
       "  'print(1)',\n",
       "  'i=[a,b,\"c\",1]',\n",
       "  'print(i)',\n",
       "  'a=\"w\"',\n",
       "  'print(a)',\n",
       "  'a=\"1\"\\nprint(a)',\n",
       "  'i=[a,b,\"c\",\"2\",\\'3\\',1]',\n",
       "  'print(i)',\n",
       "  '2=False',\n",
       "  'x=2',\n",
       "  'x=False',\n",
       "  'print(x)',\n",
       "  'vars()'],\n",
       " '_oh': {2: 3,\n",
       "  4: 4,\n",
       "  9: 100,\n",
       "  11: 10.34,\n",
       "  12: float,\n",
       "  13: 3,\n",
       "  14: 1,\n",
       "  15: 0.3,\n",
       "  16: 3.3333333333333335,\n",
       "  17: 3,\n",
       "  18: 9,\n",
       "  19: 27,\n",
       "  23: 10.34},\n",
       " '_dh': ['C:\\\\Code\\\\python_fundamentals'],\n",
       " 'In': ['',\n",
       "  'print(\"holi\");',\n",
       "  '1+2',\n",
       "  '1/0',\n",
       "  '1+2\\n1+3',\n",
       "  \"print('hi')\\nprint('hello')\",\n",
       "  'mean(2)',\n",
       "  'x',\n",
       "  'x=100',\n",
       "  'x',\n",
       "  'decimales=10.34',\n",
       "  'decimales',\n",
       "  'type(decimales)',\n",
       "  '3%10',\n",
       "  '10%3',\n",
       "  '3/10',\n",
       "  '10/3',\n",
       "  '10//3',\n",
       "  '3*3',\n",
       "  '3**3',\n",
       "  '#print(\"holi\");',\n",
       "  '#soy un comentario',\n",
       "  'print(\"holi\")\\n#soy un comentario',\n",
       "  'decimales',\n",
       "  'a=10\\nb=5\\nprint(a*b)',\n",
       "  'a=10\\nb=5\\nprint(\"\"+a*b)',\n",
       "  'a=10\\nb=5\\nprint(\"\"&a*b)',\n",
       "  'a=10\\nb=5\\nprint(a*b)',\n",
       "  'Print(1)',\n",
       "  'print(1)',\n",
       "  'i=[a,b,\"c\",1]',\n",
       "  'print(i)',\n",
       "  'a=\"w\"',\n",
       "  'print(a)',\n",
       "  'a=\"1\"\\nprint(a)',\n",
       "  'i=[a,b,\"c\",\"2\",\\'3\\',1]',\n",
       "  'print(i)',\n",
       "  '2=False',\n",
       "  'x=2',\n",
       "  'x=False',\n",
       "  'print(x)',\n",
       "  'vars()'],\n",
       " 'Out': {2: 3,\n",
       "  4: 4,\n",
       "  9: 100,\n",
       "  11: 10.34,\n",
       "  12: float,\n",
       "  13: 3,\n",
       "  14: 1,\n",
       "  15: 0.3,\n",
       "  16: 3.3333333333333335,\n",
       "  17: 3,\n",
       "  18: 9,\n",
       "  19: 27,\n",
       "  23: 10.34},\n",
       " 'get_ipython': <bound method InteractiveShell.get_ipython of <ipykernel.zmqshell.ZMQInteractiveShell object at 0x000001CFDCB9E4A8>>,\n",
       " 'exit': <IPython.core.autocall.ZMQExitAutocall at 0x1cfdcbd2c88>,\n",
       " 'quit': <IPython.core.autocall.ZMQExitAutocall at 0x1cfdcbd2c88>,\n",
       " '_': 10.34,\n",
       " '__': 27,\n",
       " '___': 9,\n",
       " '_i': 'print(x)',\n",
       " '_ii': 'x=False',\n",
       " '_iii': 'x=2',\n",
       " '_i1': 'print(\"holi\");',\n",
       " '_i2': '1+2',\n",
       " '_2': 3,\n",
       " '_i3': '1/0',\n",
       " '_i4': '1+2\\n1+3',\n",
       " '_4': 4,\n",
       " '_i5': \"print('hi')\\nprint('hello')\",\n",
       " '_i6': 'mean(2)',\n",
       " '_i7': 'x',\n",
       " '_i8': 'x=100',\n",
       " 'x': False,\n",
       " '_i9': 'x',\n",
       " '_9': 100,\n",
       " '_i10': 'decimales=10.34',\n",
       " 'decimales': 10.34,\n",
       " '_i11': 'decimales',\n",
       " '_11': 10.34,\n",
       " '_i12': 'type(decimales)',\n",
       " '_12': float,\n",
       " '_i13': '3%10',\n",
       " '_13': 3,\n",
       " '_i14': '10%3',\n",
       " '_14': 1,\n",
       " '_i15': '3/10',\n",
       " '_15': 0.3,\n",
       " '_i16': '10/3',\n",
       " '_16': 3.3333333333333335,\n",
       " '_i17': '10//3',\n",
       " '_17': 3,\n",
       " '_i18': '3*3',\n",
       " '_18': 9,\n",
       " '_i19': '3**3',\n",
       " '_19': 27,\n",
       " '_i20': '#print(\"holi\");',\n",
       " '_i21': '#soy un comentario',\n",
       " '_i22': 'print(\"holi\")\\n#soy un comentario',\n",
       " '_i23': 'decimales',\n",
       " '_23': 10.34,\n",
       " '_i24': 'a=10\\nb=5\\nprint(a*b)',\n",
       " 'a': '1',\n",
       " 'b': 5,\n",
       " '_i25': 'a=10\\nb=5\\nprint(\"\"+a*b)',\n",
       " '_i26': 'a=10\\nb=5\\nprint(\"\"&a*b)',\n",
       " '_i27': 'a=10\\nb=5\\nprint(a*b)',\n",
       " '_i28': 'Print(1)',\n",
       " '_i29': 'print(1)',\n",
       " '_i30': 'i=[a,b,\"c\",1]',\n",
       " 'i': ['1', 5, 'c', '2', '3', 1],\n",
       " '_i31': 'print(i)',\n",
       " '_i32': 'a=\"w\"',\n",
       " '_i33': 'print(a)',\n",
       " '_i34': 'a=\"1\"\\nprint(a)',\n",
       " '_i35': 'i=[a,b,\"c\",\"2\",\\'3\\',1]',\n",
       " '_i36': 'print(i)',\n",
       " '_i37': '2=False',\n",
       " '_i38': 'x=2',\n",
       " '_i39': 'x=False',\n",
       " '_i40': 'print(x)',\n",
       " '_i41': 'vars()'}"
      ]
     },
     "execution_count": 41,
     "metadata": {},
     "output_type": "execute_result"
    }
   ],
   "source": [
    "vars()"
   ]
  },
  {
   "cell_type": "code",
   "execution_count": 42,
   "id": "b0c81f09",
   "metadata": {},
   "outputs": [
    {
     "name": "stdout",
     "output_type": "stream",
     "text": [
      "1\n"
     ]
    }
   ],
   "source": [
    "print(a)"
   ]
  },
  {
   "cell_type": "code",
   "execution_count": 43,
   "id": "37100a6b",
   "metadata": {},
   "outputs": [
    {
     "ename": "NameError",
     "evalue": "name 'a' is not defined",
     "output_type": "error",
     "traceback": [
      "\u001b[1;31m---------------------------------------------------------------------------\u001b[0m",
      "\u001b[1;31mNameError\u001b[0m                                 Traceback (most recent call last)",
      "\u001b[1;32m<ipython-input-43-c342333e421e>\u001b[0m in \u001b[0;36m<module>\u001b[1;34m\u001b[0m\n\u001b[0;32m      1\u001b[0m \u001b[1;32mdel\u001b[0m \u001b[0ma\u001b[0m\u001b[1;33m\u001b[0m\u001b[1;33m\u001b[0m\u001b[0m\n\u001b[1;32m----> 2\u001b[1;33m \u001b[0mprint\u001b[0m\u001b[1;33m(\u001b[0m\u001b[0ma\u001b[0m\u001b[1;33m)\u001b[0m\u001b[1;33m\u001b[0m\u001b[1;33m\u001b[0m\u001b[0m\n\u001b[0m",
      "\u001b[1;31mNameError\u001b[0m: name 'a' is not defined"
     ]
    }
   ],
   "source": [
    "del a\n",
    "print(a)"
   ]
  },
  {
   "cell_type": "code",
   "execution_count": 44,
   "id": "9b97760d",
   "metadata": {},
   "outputs": [
    {
     "ename": "SyntaxError",
     "evalue": "invalid syntax (<ipython-input-44-54652f530a66>, line 1)",
     "output_type": "error",
     "traceback": [
      "\u001b[1;36m  File \u001b[1;32m\"<ipython-input-44-54652f530a66>\"\u001b[1;36m, line \u001b[1;32m1\u001b[0m\n\u001b[1;33m    global\u001b[0m\n\u001b[1;37m          ^\u001b[0m\n\u001b[1;31mSyntaxError\u001b[0m\u001b[1;31m:\u001b[0m invalid syntax\n"
     ]
    }
   ],
   "source": [
    "global\n"
   ]
  },
  {
   "cell_type": "code",
   "execution_count": 45,
   "id": "75575a71",
   "metadata": {},
   "outputs": [],
   "source": [
    "var1=\"var original\"\n",
    "def var_global():\n",
    "    global var1\n",
    "    var1=\"mi variable global\""
   ]
  },
  {
   "cell_type": "code",
   "execution_count": 46,
   "id": "46fd44bc",
   "metadata": {},
   "outputs": [
    {
     "name": "stdout",
     "output_type": "stream",
     "text": [
      "var original\n"
     ]
    }
   ],
   "source": [
    "print(var1)"
   ]
  },
  {
   "cell_type": "code",
   "execution_count": 47,
   "id": "1006cb0d",
   "metadata": {},
   "outputs": [],
   "source": [
    "var_global()"
   ]
  },
  {
   "cell_type": "code",
   "execution_count": 75,
   "id": "15701df0",
   "metadata": {},
   "outputs": [
    {
     "name": "stdout",
     "output_type": "stream",
     "text": [
      "mi variable global\n"
     ]
    }
   ],
   "source": [
    "print(var1)"
   ]
  },
  {
   "cell_type": "code",
   "execution_count": 76,
   "id": "9d6089e7",
   "metadata": {},
   "outputs": [],
   "source": [
    "#Tuplas - son inmutables"
   ]
  },
  {
   "cell_type": "markdown",
   "id": "2b247aad",
   "metadata": {},
   "source": [
    "#Tupla\n"
   ]
  },
  {
   "cell_type": "markdown",
   "id": "d52f133b",
   "metadata": {},
   "source": [
    "# tupla"
   ]
  },
  {
   "cell_type": "code",
   "execution_count": 77,
   "id": "5e4c4fa2",
   "metadata": {},
   "outputs": [
    {
     "data": {
      "text/plain": [
       "tuple"
      ]
     },
     "execution_count": 77,
     "metadata": {},
     "output_type": "execute_result"
    }
   ],
   "source": [
    "tupla1 = (\"a\",1,5.0)\n",
    "type(tupla1)"
   ]
  },
  {
   "cell_type": "code",
   "execution_count": 78,
   "id": "16ee7d66",
   "metadata": {},
   "outputs": [
    {
     "name": "stdout",
     "output_type": "stream",
     "text": [
      "['a', 1, 5.0]\n"
     ]
    }
   ],
   "source": [
    "tuplaList = list(tupla1)\n",
    "print(tuplaList)"
   ]
  },
  {
   "cell_type": "code",
   "execution_count": 79,
   "id": "a9867a8c",
   "metadata": {
    "scrolled": true
   },
   "outputs": [
    {
     "name": "stdout",
     "output_type": "stream",
     "text": [
      "('a', 1, 5.0)\n"
     ]
    }
   ],
   "source": [
    "tupla1 = tuple(tuplaList)\n",
    "print(tupla1)"
   ]
  },
  {
   "cell_type": "markdown",
   "id": "dd84cbff",
   "metadata": {},
   "source": [
    "# Diccionarios\n"
   ]
  },
  {
   "cell_type": "code",
   "execution_count": 80,
   "id": "5aed694d",
   "metadata": {},
   "outputs": [],
   "source": [
    "#Elementos en pares, poseen una llave o key, se define con {}, mutable"
   ]
  },
  {
   "cell_type": "code",
   "execution_count": 81,
   "id": "1a291a6c",
   "metadata": {},
   "outputs": [],
   "source": [
    "diccionario1={\"Nombre\":\"Victor\", \"Pelicula\":\"Nope\", \"Numero\":2,\n",
    "             \"Nombre\":\"Claudia\", \"Pelicula\":\"Parasitos\", \"Numero\":10\n",
    "             }"
   ]
  },
  {
   "cell_type": "code",
   "execution_count": 88,
   "id": "32ef1e34",
   "metadata": {},
   "outputs": [
    {
     "name": "stdout",
     "output_type": "stream",
     "text": [
      "{}\n"
     ]
    }
   ],
   "source": [
    "print(diccionario1)"
   ]
  },
  {
   "cell_type": "code",
   "execution_count": 83,
   "id": "d943647f",
   "metadata": {},
   "outputs": [
    {
     "data": {
      "text/plain": [
       "dict"
      ]
     },
     "execution_count": 83,
     "metadata": {},
     "output_type": "execute_result"
    }
   ],
   "source": [
    "type(diccionario1)"
   ]
  },
  {
   "cell_type": "code",
   "execution_count": 85,
   "id": "a9ba8969",
   "metadata": {},
   "outputs": [
    {
     "data": {
      "text/plain": [
       "'Claudia'"
      ]
     },
     "execution_count": 85,
     "metadata": {},
     "output_type": "execute_result"
    }
   ],
   "source": [
    "diccionario1[\"Nombre\"]"
   ]
  },
  {
   "cell_type": "code",
   "execution_count": 87,
   "id": "369ff61e",
   "metadata": {},
   "outputs": [],
   "source": [
    "diccionario1.clear()"
   ]
  },
  {
   "cell_type": "code",
   "execution_count": 91,
   "id": "c45e2fe2",
   "metadata": {},
   "outputs": [],
   "source": [
    "keys=(\"Nombre\",\"Pelicula\",\"Numero\")\n",
    "diccionario2=dict.fromkeys(keys)"
   ]
  },
  {
   "cell_type": "code",
   "execution_count": 92,
   "id": "b5c1b762",
   "metadata": {},
   "outputs": [
    {
     "data": {
      "text/plain": [
       "{'Nombre': None, 'Pelicula': None, 'Numero': None}"
      ]
     },
     "execution_count": 92,
     "metadata": {},
     "output_type": "execute_result"
    }
   ],
   "source": [
    "diccionario2"
   ]
  },
  {
   "cell_type": "code",
   "execution_count": 93,
   "id": "93eb9dbf",
   "metadata": {},
   "outputs": [
    {
     "data": {
      "text/plain": [
       "tuple"
      ]
     },
     "execution_count": 93,
     "metadata": {},
     "output_type": "execute_result"
    }
   ],
   "source": [
    "type(keys)"
   ]
  },
  {
   "cell_type": "code",
   "execution_count": 94,
   "id": "ffd9c9d1",
   "metadata": {},
   "outputs": [
    {
     "data": {
      "text/plain": [
       "{'Windows': 10, 'Core': 'i7'}"
      ]
     },
     "execution_count": 94,
     "metadata": {},
     "output_type": "execute_result"
    }
   ],
   "source": [
    "sistema=dict(Windows=10, Core=\"i7\")\n",
    "sistema"
   ]
  },
  {
   "cell_type": "code",
   "execution_count": 95,
   "id": "ce9887dc",
   "metadata": {},
   "outputs": [
    {
     "data": {
      "text/plain": [
       "dict"
      ]
     },
     "execution_count": 95,
     "metadata": {},
     "output_type": "execute_result"
    }
   ],
   "source": [
    "type(sistema)"
   ]
  },
  {
   "cell_type": "code",
   "execution_count": 96,
   "id": "46eb25f0",
   "metadata": {},
   "outputs": [
    {
     "data": {
      "text/plain": [
       "dict_items([('Windows', 10), ('Core', 'i7')])"
      ]
     },
     "execution_count": 96,
     "metadata": {},
     "output_type": "execute_result"
    }
   ],
   "source": [
    "sistema.items()"
   ]
  },
  {
   "cell_type": "code",
   "execution_count": 97,
   "id": "c57ba2c4",
   "metadata": {},
   "outputs": [
    {
     "data": {
      "text/plain": [
       "10"
      ]
     },
     "execution_count": 97,
     "metadata": {},
     "output_type": "execute_result"
    }
   ],
   "source": [
    "sistema.get(\"Windows\")"
   ]
  },
  {
   "cell_type": "code",
   "execution_count": 115,
   "id": "52ecab6e",
   "metadata": {},
   "outputs": [
    {
     "data": {
      "text/plain": [
       "{'Nombre': 'Claudia', 'Pelicula': 'Parasitos', 'Numero': 10}"
      ]
     },
     "execution_count": 115,
     "metadata": {},
     "output_type": "execute_result"
    }
   ],
   "source": [
    "diccionario1"
   ]
  },
  {
   "cell_type": "code",
   "execution_count": 99,
   "id": "31bc6b8d",
   "metadata": {},
   "outputs": [
    {
     "data": {
      "text/plain": [
       "dict_keys(['Windows', 'Core'])"
      ]
     },
     "execution_count": 99,
     "metadata": {},
     "output_type": "execute_result"
    }
   ],
   "source": [
    "sistema.keys()"
   ]
  },
  {
   "cell_type": "code",
   "execution_count": 113,
   "id": "7e874072",
   "metadata": {},
   "outputs": [
    {
     "data": {
      "text/plain": [
       "'Intel'"
      ]
     },
     "execution_count": 113,
     "metadata": {},
     "output_type": "execute_result"
    }
   ],
   "source": [
    "sistema.pop(\"Grafica\") #elimina el valor, muestra el valor"
   ]
  },
  {
   "cell_type": "code",
   "execution_count": 110,
   "id": "1e359d4a",
   "metadata": {},
   "outputs": [],
   "source": [
    "sistema2 = dict(Grafica=\"Intel\")\n",
    "sistema.update(sistema2)"
   ]
  },
  {
   "cell_type": "code",
   "execution_count": 112,
   "id": "4f01f422",
   "metadata": {},
   "outputs": [
    {
     "data": {
      "text/plain": [
       "{'Windows': 10, 'Core': 'i7', 'Grafica': 'Intel'}"
      ]
     },
     "execution_count": 112,
     "metadata": {},
     "output_type": "execute_result"
    }
   ],
   "source": [
    "sistema"
   ]
  },
  {
   "cell_type": "code",
   "execution_count": 108,
   "id": "6f9054ff",
   "metadata": {},
   "outputs": [
    {
     "data": {
      "text/plain": [
       "('Grafica', 'Intel')"
      ]
     },
     "execution_count": 108,
     "metadata": {},
     "output_type": "execute_result"
    }
   ],
   "source": [
    "sistema.popitem()#elimina el valor y regresa la llave y el valor"
   ]
  },
  {
   "cell_type": "code",
   "execution_count": 114,
   "id": "a9224d6e",
   "metadata": {},
   "outputs": [],
   "source": [
    "diccionario1={\"Nombre\":\"Victor\", \"Pelicula\":\"Nope\", \"Numero\":2,\n",
    "             \"Nombre\":\"Claudia\", \"Pelicula\":\"Parasitos\", \"Numero\":10\n",
    "             }"
   ]
  },
  {
   "cell_type": "code",
   "execution_count": 116,
   "id": "09fad77e",
   "metadata": {},
   "outputs": [],
   "source": [
    "list1=[\"M\",\"nom\",\"e\",\"Is\"]\n",
    "list2=[\"i\",\"bre\",\"s\",\"aac\"]\n",
    "#si apend resultado = [\"M\",\"nom\",\"e\",\"Is\",\"i\",\"bre\",\"s\",\"aac\"]"
   ]
  },
  {
   "cell_type": "code",
   "execution_count": 118,
   "id": "3d92b05e",
   "metadata": {},
   "outputs": [
    {
     "data": {
      "text/plain": [
       "['Mi', 'nombre', 'es', 'Isaac']"
      ]
     },
     "execution_count": 118,
     "metadata": {},
     "output_type": "execute_result"
    }
   ],
   "source": [
    "list3=[i+j for i,j in zip(list1,list2)]\n",
    "list3"
   ]
  },
  {
   "cell_type": "code",
   "execution_count": 121,
   "id": "5f78a0c4",
   "metadata": {},
   "outputs": [
    {
     "data": {
      "text/plain": [
       "['Isaac', 'es', 'nombre', 'Mi']"
      ]
     },
     "execution_count": 121,
     "metadata": {},
     "output_type": "execute_result"
    }
   ],
   "source": [
    "list3.reverse()\n",
    "list3"
   ]
  },
  {
   "cell_type": "code",
   "execution_count": null,
   "id": "c681fffa",
   "metadata": {},
   "outputs": [],
   "source": []
  }
 ],
 "metadata": {
  "kernelspec": {
   "display_name": "Python 3",
   "language": "python",
   "name": "python3"
  },
  "language_info": {
   "codemirror_mode": {
    "name": "ipython",
    "version": 3
   },
   "file_extension": ".py",
   "mimetype": "text/x-python",
   "name": "python",
   "nbconvert_exporter": "python",
   "pygments_lexer": "ipython3",
   "version": "3.6.13"
  }
 },
 "nbformat": 4,
 "nbformat_minor": 5
}
